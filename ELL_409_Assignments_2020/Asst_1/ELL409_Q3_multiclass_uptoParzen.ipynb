{
  "nbformat": 4,
  "nbformat_minor": 0,
  "metadata": {
    "kernelspec": {
      "display_name": "Python 3",
      "language": "python",
      "name": "python3"
    },
    "language_info": {
      "codemirror_mode": {
        "name": "ipython",
        "version": 3
      },
      "file_extension": ".py",
      "mimetype": "text/x-python",
      "name": "python",
      "nbconvert_exporter": "python",
      "pygments_lexer": "ipython3",
      "version": "3.7.2"
    },
    "colab": {
      "name": "ELL409_Q3_multiclass_uptoParzen.ipynb",
      "provenance": [],
      "collapsed_sections": []
    },
    "accelerator": "GPU"
  },
  "cells": [
    {
      "cell_type": "code",
      "metadata": {
        "id": "ale4sIOEEZOw"
      },
      "source": [
        "#drive_path = \"Downloads/Medical_MNIST.zip\"\n",
        "\n",
        "#Mount drive\n",
        "# from google.colab import drive\n",
        "# drive.mount('/content/drive')\n",
        "drive_path = \"/content/drive/MyDrive/Assignment1_ELL409/Q3/Medical_MNIST.zip\" #replace with local directory\n",
        "# drive_path1 = \"/content/drive/MyDrive/Assignment1_ELL409/Q1/health_data.csv\"\n",
        "\n",
        "#report: https://www.overleaf.com/read/nrmtrnjwfgnh"
      ],
      "execution_count": null,
      "outputs": []
    },
    {
      "cell_type": "code",
      "metadata": {
        "id": "MFhWFq-HEZO1"
      },
      "source": [
        "import numpy as np\n",
        "import pandas as pd\n",
        "import statistics as st\n",
        "import math\n",
        "from zipfile import ZipFile as zipf\n",
        "from PIL import Image as img\n",
        "import matplotlib.pyplot as plt"
      ],
      "execution_count": null,
      "outputs": []
    },
    {
      "cell_type": "code",
      "metadata": {
        "id": "NLWi0SdSEZO2"
      },
      "source": [
        "def confusion_matrx(out_true_dict,num_class):\n",
        "    conf_m = np.zeros(dtype=int,shape=(num_class,num_class))\n",
        "\n",
        "    for i in out_true_dict.keys():\n",
        "        true_v = int(i)\n",
        "        pred_vs = out_true_dict[i]\n",
        "        for pred_v in pred_vs:\n",
        "          conf_m[true_v][int(pred_v)] +=1\n",
        "\n",
        "    return conf_m\n",
        "\n",
        "def accuracy(out_dict,num_class):\n",
        "    acc = 0\n",
        "    conf_m = confusion_matrx(out_dict,num_class)\n",
        "    for i in range(num_class):\n",
        "        acc += conf_m[i][i]\n",
        "    acc = acc/sum(sum(conf_m))\n",
        "\n",
        "    return acc\n",
        "\n",
        "def balanced_acc_sckit(out_dict,num_class):\n",
        "  C = confusion_matrx(out_dict,num_class)\n",
        "  with np.errstate(divide='ignore', invalid='ignore'):\n",
        "      per_class = np.diag(C) / C.sum(axis=1)\n",
        "  if np.any(np.isnan(per_class)):\n",
        "      warnings.warn('y_pred contains classes not in y_true')\n",
        "      per_class = per_class[~np.isnan(per_class)]\n",
        "  score = np.mean(per_class)\n",
        "  if 1==1:\n",
        "      n_classes = len(per_class)\n",
        "      chance = 1 / n_classes\n",
        "      score -= chance\n",
        "      score /= 1 - chance\n",
        "  return score\n",
        "\n",
        "\n",
        "def precis_recall_f(out_dict,num_class,cf):\n",
        "    if not out_dict:\n",
        "      cfm = cf\n",
        "    else:\n",
        "      cfm = confusion_matrx(out_dict,num_class)\n",
        "    \n",
        "    if(num_class==2):\n",
        "      precision = (1/(cfm[1][1] + cfm[0][1]))*cfm[1][1]\n",
        "      recall = (1/(cfm[0][0] + cfm[1][0]))*cfm[0][0]\n",
        "      fscore = 2*precision*recall*(1/(precision+recall))\n",
        "      return precision,recall,fscore\n",
        "  \n",
        "    precs = []\n",
        "    recs = []\n",
        "    fs = []\n",
        "    for i in range(num_class):\n",
        "        precision = cfm[i][i]\n",
        "        if(precision!=0):\n",
        "          precision = precision/sum([cfm[t][i] for t in range(num_class)])\n",
        "        \n",
        "        recall = cfm[i][i]\n",
        "        if(recall!=0):\n",
        "          recall = recall/sum([cfm[i][t] for t in range(num_class)])\n",
        "        \n",
        "        tm = precision+recall\n",
        "        if(tm>0):\n",
        "          fscore = 2*precision*recall/tm\n",
        "        else:\n",
        "          fscore=0\n",
        "        precs.append(precision)\n",
        "        recs.append(recall)\n",
        "        fs.append(fscore)\n",
        "\n",
        "    macrp = sum(fs)/num_class\n",
        "\n",
        "    return precs,recs,fs,macrp\n"
      ],
      "execution_count": null,
      "outputs": []
    },
    {
      "cell_type": "markdown",
      "metadata": {
        "id": "25CipTQ4WIc6"
      },
      "source": [
        "Start of data preprocessing"
      ]
    },
    {
      "cell_type": "code",
      "metadata": {
        "id": "ucDePaHMEZO3"
      },
      "source": [
        "np.random.seed(0)\n",
        "\n",
        "def split_data(data,r,flag): \n",
        "    '''r: ratio of split, r indicates amount in train; flag indicates if random or linear split'''\n",
        "    train_len = int(len(data) * r)\n",
        "    \n",
        "    test_len = len(data) - train_len\n",
        "    test = [] \n",
        "    train = []\n",
        "\n",
        "    if(flag==0):\n",
        "        train = list(data)\n",
        "        while len(test) < test_len:\n",
        "            inx = np.random.randint(0,len(train))\n",
        "            test.append(train.pop(inx))\n",
        "    \n",
        "    else:\n",
        "        train = data\n",
        "        while len(test) < test_len:\n",
        "            inx = 0\n",
        "            test.append(train.pop(inx))\n",
        "\n",
        "    return train, test \n",
        "\n",
        "def split_cv(dataset, folds=5):\n",
        "    #modified version of code from https://machinelearningmastery.com/implement-resampling-methods-scratch-python/ for convenience\n",
        "    dataset_split = list()\n",
        "    dataset_copy = list(dataset)\n",
        "    fold_size = int(len(dataset) / folds)\n",
        "    for i in range(folds):\n",
        "        fold = list()\n",
        "        while len(fold) < fold_size:\n",
        "            index = np.random.randint(0,len(dataset_copy))\n",
        "            fold.append(dataset_copy.pop(index))\n",
        "        dataset_split.append(fold)\n",
        "    inx = 0\n",
        "    while(len(dataset_copy)!=0):\n",
        "      dataset_split[inx].append(dataset_copy.pop(0))\n",
        "      inx+=1\n",
        "    \n",
        "    del(dataset_copy)\n",
        "    return dataset_split"
      ],
      "execution_count": null,
      "outputs": []
    },
    {
      "cell_type": "code",
      "metadata": {
        "id": "_XK_WVm9d0b8"
      },
      "source": [
        "def key_feat_map(data_arr):\n",
        "  dict1 = {}\n",
        "  for lst in data_arr:\n",
        "    k = lst[-1]\n",
        "    if k in dict1.keys():\n",
        "      dict1[k].append(lst[:-1])\n",
        "    else:\n",
        "      dict1[k] = [np.asarray(lst[:-1])]\n",
        "  for k in dict1:\n",
        "    dict1[k] = np.asarray(dict1[k])\n",
        "    #print(dict1[k].shape)\n",
        "  return dict1"
      ],
      "execution_count": null,
      "outputs": []
    },
    {
      "cell_type": "code",
      "metadata": {
        "id": "3nqXVHJXEZO2"
      },
      "source": [
        "#Multiclass\n",
        "categories = {\"AbdomenCT\":0,\"BreastMRI\":1,\"CXR\":2,\"ChestCT\":3,\"Hand\":4,\"HeadCT\":5}\n",
        "#all_vals = {0:[],1:[],2:[],3:[],4:[],5:[]}\n",
        "all_vals_lst = []\n",
        "with zipf(drive_path) as archive:\n",
        "    for entry in archive.infolist():\n",
        "        with archive.open(entry) as file:\n",
        "            key = file.name.split('/')[0]\n",
        "            imag = img.open(file)\n",
        "            #imag = imag.resize((32,32))\n",
        "            #print(imag.size, imag.mode, len(imag.getdata()))\n",
        "            #print()\n",
        "            lst = list(imag.getdata())\n",
        "            lst.append(categories[key])\n",
        "            #all_vals[categories[key]].append(np.asarray(imag.getdata()))\n",
        "            all_vals_lst.append(np.asarray(lst))\n",
        "            del(lst)\n",
        "\n",
        "all_vals_lst = np.asarray(all_vals_lst)"
      ],
      "execution_count": null,
      "outputs": []
    },
    {
      "cell_type": "code",
      "metadata": {
        "id": "Qx6ccx6aRmcR"
      },
      "source": [
        "#sanity checks\n",
        "#np.random.shuffle(all_vals_lst)\n",
        "#print(len(all_vals_lst))\n",
        "#print(len(traindata))\n",
        "# print(len(testdata)+len(traindata))"
      ],
      "execution_count": null,
      "outputs": []
    },
    {
      "cell_type": "code",
      "metadata": {
        "colab": {
          "base_uri": "https://localhost:8080/"
        },
        "id": "lYostulMEZO3",
        "outputId": "79faa22c-7cd2-4a62-ee06-1a02c9b44c06"
      },
      "source": [
        "traindata,testdata = split_data(all_vals_lst,0.8,0)\n",
        "traindata = np.asarray(traindata)\n",
        "testdata = np.asarray(testdata)"
      ],
      "execution_count": null,
      "outputs": [
        {
          "output_type": "stream",
          "text": [
            "47163\n",
            "58954\n"
          ],
          "name": "stdout"
        }
      ]
    },
    {
      "cell_type": "code",
      "metadata": {
        "id": "CcnBRJ_kEZO4"
      },
      "source": [
        " #free ram, size of that array wld be large\n",
        " #del(all_vals_lst)"
      ],
      "execution_count": null,
      "outputs": []
    },
    {
      "cell_type": "code",
      "metadata": {
        "id": "p60YvUKmEZO4"
      },
      "source": [
        "#Applying PCA\n",
        "\n",
        "from sklearn.preprocessing import StandardScaler\n",
        "scaler = StandardScaler()\n",
        "scaler.fit(traindata[:,:-1])\n",
        "traindata[:,:-1] = scaler.transform(traindata[:,:-1])\n",
        "testdata[:,:-1] = scaler.transform(testdata[:,:-1])\n",
        "\n",
        "#using sklearn because when I used my implementation the code kept crashing, bec. RAM capacity not enough (even on google colab.); code blow:\n",
        "#add original code from old file)\n",
        "\n",
        "# def standardize_data(train_d,test_d,eps=10^-3):\n",
        "#   mu_arr = np.mean(train_d,axis=0)\n",
        "#   sd_arr = np.std(train_d,axis=0)\n",
        "#   for val in range(len(sd_arr)):\n",
        "#     if(sd_arr[val]==0):\n",
        "#       sd_arr[val] = eps\n",
        "  \n",
        "#   for val in range(len(train_d)):\n",
        "#     lst_tr = train_d[val]\n",
        "    \n",
        "#     lst_tr = np.subtract(lst_tr,mu_arr)\n",
        "#     train_d[val] = np.divide(lst_tr,sd_arr)\n",
        "    \n",
        "#   for val in range(len(test_d)):\n",
        "#     lst_ts = test_d[val]\n",
        "#     lst_ts = np.subtract(lst_ts,mu_arr)\n",
        "#     test_d[val] = np.divide(lst_ts,sd_arr)\n",
        "\n",
        "#   scaler = StandardScaler()\n",
        "#   # Fit on training set only.\n",
        "#   scaler.fit(train_img)\n",
        "#   # Apply transform to both the training set and the test set.\n",
        "#   train_img = scaler.transform(train_img)\n",
        "#   test_img = scaler.transform(test_img)\n",
        "\n",
        "#   return train_d,test_d\n",
        "\n",
        "# def std_dicts(train_dict,test_dict):\n",
        "#   for key in train_dict.keys():\n",
        "#     train_dict[key],test_dict[key] = standardize_data(train_dict[key],test_dict[key])\n",
        "#   return train_dict,test_dict\n"
      ],
      "execution_count": null,
      "outputs": []
    },
    {
      "cell_type": "code",
      "metadata": {
        "id": "Ua1p2ZlNuKsg"
      },
      "source": [
        "#num_c = 5\n",
        "num_c = 3\n",
        "from sklearn.decomposition import PCA\n",
        "pca = PCA(n_components=num_c)\n",
        "pca.fit(traindata[:,:-1])\n",
        "\n",
        "train_set1 = pca.transform(traindata[:,:-1])\n",
        "test_set1 = pca.transform(testdata[:,:-1])\n",
        "\n",
        "train_pca1 = []\n",
        "for i in range(len(traindata)):\n",
        "  feat = traindata[i,-1]\n",
        "  k = list(train_set1[i,:])\n",
        "  k.append(feat)\n",
        "  train_pca1.append(np.asarray(k))\n",
        "\n",
        "test_pca1 = []\n",
        "for i in range(len(testdata)):\n",
        "  feat = testdata[i,-1]\n",
        "  k = list(test_set1[i,:])\n",
        "  k.append(feat)\n",
        "  test_pca1.append(np.asarray(k))\n",
        "\n",
        "k_folds3 = split_cv(train_pca1)\n",
        "for i in range(5):\n",
        "  print(len(k_folds1[i]))\n",
        "\n",
        "test_pca3 = key_feat_map(test_pca1)\n",
        "del(test_pca1)\n",
        "\n",
        "# with open(\"/content/drive/MyDrive/Assignment1_ELL409/Q3/5Fold_3PCA.pickle\",\"wb\") as f:\n",
        "#   pickle.dump(k_folds3,f)\n",
        "\n",
        "# with open(\"/content/drive/MyDrive/Assignment1_ELL409/Q3/testdict_3PCA.pickle\",\"wb\") as f:\n",
        "#   pickle.dump(test_pca3,f)\n",
        "\n"
      ],
      "execution_count": null,
      "outputs": []
    },
    {
      "cell_type": "code",
      "metadata": {
        "id": "k_OHEoBTEn7W"
      },
      "source": [
        "from sklearn.decomposition import PCA\n",
        "pca = PCA(n_components=5)\n",
        "pca.fit(traindata[:,:-1])\n",
        "\n",
        "train_set = pca.transform(traindata[:,:-1])\n",
        "test_set = pca.transform(testdata[:,:-1])\n",
        "\n",
        "\n",
        "# num C vs variance plot\n",
        "# var = []\n",
        "# nc = []\n",
        "# for k in range(5,55,10):\n",
        "#   pca = PCA(n_components=k)\n",
        "#   pca.fit(traindata)\n",
        "\n",
        "#   train_set = pca.transform(traindata)\n",
        "#   #test_set = pca.transform(testdata)\n",
        "#   print(\"---\" + str(k) + \"---\")\n",
        "#   lst_v = []\n",
        "#   for inx in range(k):\n",
        "#     print(inx)\n",
        "#     lst_v.append(np.std(np.asarray(train_set[:,inx])))\n",
        "#   var.append((max(lst_v),min(lst_v),np.mean(np.asarray(lst_v))))\n",
        "#   nc.append(k)\n",
        "\n",
        "# plt.scatter(nc,[t[0] for t in var],label=\"max\")\n",
        "# plt.scatter(nc,[t[1] for t in var],label=\"min\")\n",
        "# plt.scatter(nc,[t[2] for t in var],label=\"mean\")\n",
        "# plt.legend()\n",
        "# plt.xlabel(\"PCA num components\")\n",
        "# plt.ylabel(\"variance\")\n",
        "# plt.savefig(\"/content/drive/MyDrive/Assignment1_ELL409/PCA_plot.png\")\n",
        "# plt.show()\n"
      ],
      "execution_count": null,
      "outputs": []
    },
    {
      "cell_type": "code",
      "metadata": {
        "id": "N43u9IBhPMYe"
      },
      "source": [
        "train_pca = []\n",
        "for i in range(len(traindata)):\n",
        "  feat = traindata[i,-1]\n",
        "  k = list(train_set[i,:])\n",
        "  k.append(feat)\n",
        "  train_pca.append(np.asarray(k))\n",
        "\n",
        "test_pca = []\n",
        "for i in range(len(testdata)):\n",
        "  feat = testdata[i,-1]\n",
        "  k = list(test_set[i,:])\n",
        "  k.append(feat)\n",
        "  test_pca.append(np.asarray(k))\n"
      ],
      "execution_count": null,
      "outputs": []
    },
    {
      "cell_type": "code",
      "metadata": {
        "colab": {
          "base_uri": "https://localhost:8080/"
        },
        "id": "vT2n3dsBSfIM",
        "outputId": "d170601c-5c00-4b00-a9cc-2b80ce0fbea8"
      },
      "source": [
        "# sanity checks\n",
        "# print(len(train_pca[0]))\n",
        "# print(len(test_pca)+len(train_pca))"
      ],
      "execution_count": null,
      "outputs": [
        {
          "output_type": "stream",
          "text": [
            "6\n",
            "58954\n"
          ],
          "name": "stdout"
        }
      ]
    },
    {
      "cell_type": "code",
      "metadata": {
        "id": "EB-hcQ-oEZO6"
      },
      "source": [
        "k_folds = split_cv(train_pca)\n",
        "for i in range(5):\n",
        "  print(len(k_folds[i]))"
      ],
      "execution_count": null,
      "outputs": []
    },
    {
      "cell_type": "code",
      "metadata": {
        "id": "xY6YTtlhdqBE"
      },
      "source": [
        "test_pca = key_feat_map(test_pca)"
      ],
      "execution_count": null,
      "outputs": []
    },
    {
      "cell_type": "code",
      "metadata": {
        "id": "7XiV788KFMvo"
      },
      "source": [
        "import seaborn as sn\n",
        "#import pandas as pd\n",
        "#import matplotlib.pyplot as plt\n",
        "#modification of code taken from: https://stackoverflow.com/questions/35572000/how-can-i-plot-a-confusion-matrix\n",
        "\n",
        "def plot_cm(cm,num_c,title_in,fs=1,fz=10):\n",
        "\n",
        "  array = cm\n",
        "  df_cm = pd.DataFrame(array, range(num_c), range(num_c))\n",
        "  # plt.figure(figsize=(10,7))\n",
        "  sn.set(font_scale=fs) # for label size\n",
        "  sn.heatmap(df_cm, annot=True, annot_kws={\"size\": fz}) # font size\n",
        "  plt.xlabel(\"Predicted\")\n",
        "  plt.ylabel(\"True\")\n",
        "  plt.title(title_in)\n",
        "  plt.show()\n",
        "  return 0"
      ],
      "execution_count": null,
      "outputs": []
    },
    {
      "cell_type": "code",
      "metadata": {
        "colab": {
          "base_uri": "https://localhost:8080/",
          "height": 318
        },
        "id": "i8_hwyPBFmQV",
        "outputId": "1fefc6a0-669f-49b8-f1c0-42a836002742"
      },
      "source": [
        "plot_cm([[84965,0,0,0,2164,3394],[0,0,0,81078,0,755],[0,0,91570,0,1261,0],[0,90592,0,0,99,0],[86,0,1617,45,88341,389],[9664,0,0,0,801,80832]],6,\"CM for f(x|y) ~ multi. gauss, Bayes\")"
      ],
      "execution_count": null,
      "outputs": [
        {
          "output_type": "display_data",
          "data": {
            "image/png": "[encoded data removed]",
            "text/plain": [
              "<Figure size 432x288 with 2 Axes>"
            ]
          },
          "metadata": {
            "tags": []
          }
        },
        {
          "output_type": "execute_result",
          "data": {
            "text/plain": [
              "0"
            ]
          },
          "metadata": {
            "tags": []
          },
          "execution_count": 143
        }
      ]
    },
    {
      "cell_type": "code",
      "metadata": {
        "id": "ryxQUIV1Xn57"
      },
      "source": [
        "#if req to clear ram\n",
        "#del(all_vals_lst) "
      ],
      "execution_count": null,
      "outputs": []
    },
    {
      "cell_type": "code",
      "metadata": {
        "id": "E4oEZG64fby2"
      },
      "source": [
        "# #saving code\n",
        "# import pickle\n",
        "# with open(\"/content/drive/MyDrive/Assignment1_ELL409/Q3/5Fold_5PCA.pickle\",\"wb\") as f:\n",
        "#   pickle.dump(k_folds,f)\n",
        "\n",
        "# with open(\"/content/drive/MyDrive/Assignment1_ELL409/Q3/testdict_5PCA.pickle\",\"wb\") as f:\n",
        "#   pickle.dump(test_pca,f)"
      ],
      "execution_count": null,
      "outputs": []
    },
    {
      "cell_type": "code",
      "metadata": {
        "id": "8toXdpfYfTkS"
      },
      "source": [
        "#all prior code is uncommented for submission purpose\n",
        "#prior to submission I saved test_pca and k_folds and used to load them using this\n",
        "\n",
        "# import pickle\n",
        "# with open(\"/content/drive/MyDrive/Assignment1_ELL409/Q3/5Fold_5PCA.pickle\",\"rb\") as f:\n",
        "#   k_folds = pickle.load(f)\n",
        "\n",
        "# with open(\"/content/drive/MyDrive/Assignment1_ELL409/Q3/testdict_5PCA.pickle\",\"rb\") as f:\n",
        "#   test_pca = pickle.load(f)"
      ],
      "execution_count": null,
      "outputs": []
    },
    {
      "cell_type": "code",
      "metadata": {
        "id": "uY5OHjBeKYQH"
      },
      "source": [
        "# datavisualizatio\n",
        "# all_tr = k_folds[0]\n",
        "# for i in range(1,5):\n",
        "#   all_tr.extend(k_folds[i])\n",
        "\n",
        "# plt_tr = key_feat_map(all_tr)\n",
        "\n",
        "# tr_v = []\n",
        "# ts_v = []\n",
        "# for key in plt_tr.keys():\n",
        "#   tr_v.append(len(plt_tr[key]))\n",
        "#   ts_v.append(len(test_pca[key]))\n",
        "\n",
        "# tr_v = [x/sum(tr_v) for x in tr_v]\n",
        "# ts_v = [x/sum(ts_v) for x in ts_v]\n",
        "# baselin = [1/6 for i in range(6)]\n",
        "\n",
        "# plt.plot(range(len(tr_v)),tr_v,label=\"train\")\n",
        "# plt.plot(range(len(ts_v)),ts_v,label=\"test\")\n",
        "# plt.plot(range(6),baselin,'--',label=\"1/6\")\n",
        "# plt.ylabel(\"Fraction in dataset\")\n",
        "# plt.xlabel(\"Class Label\")\n",
        "# plt.legend()\n",
        "# #plt.savefig(\"/content/drive/MyDrive/Assignment1_ELL409/dataVis_1.png\")\n",
        "# --------------------------\n",
        "# from mpl_toolkits.mplot3d import Axes3D\n",
        "# fig = plt.figure()\n",
        "# ax = fig.add_subplot(111, projection='3d')\n",
        "# #plt.hold(True)\n",
        "# for k in train_pca3.keys():\n",
        "#   plt.scatter(train_pca3[k][:,0],train_pca3[k][:,1],train_pca3[k][:,2])\n",
        "# plt.show()"
      ],
      "execution_count": null,
      "outputs": []
    },
    {
      "cell_type": "markdown",
      "metadata": {
        "id": "1NgDUKC1WK4j"
      },
      "source": [
        "Bayes classifier, f(x|y) ~ multivariate normal"
      ]
    },
    {
      "cell_type": "code",
      "metadata": {
        "id": "5x_TR-_XWEFo"
      },
      "source": [
        "def MLE_Gaussian_Params(data_lst):\n",
        "  #MLE parameters obtained via closed form expression\n",
        "  n = data_lst.shape[0] #number of data points\n",
        "  k = data_lst.shape[1] #feature vector dimension\n",
        "  mu = data_lst[0][:]\n",
        "  for j in range(1,n):\n",
        "    mu = mu + data_lst[j][:]\n",
        "  mu = mu/n\n",
        "  \n",
        "  sd = np.zeros(shape=(k,k),dtype=float)\n",
        "  #print(k)\n",
        "  for j in range(n):\n",
        "    tmp = data_lst[j][:] - mu\n",
        "    #print(np.transpose(tmp[np.newaxis]).shape)\n",
        "    sd += np.matmul(np.transpose(tmp[np.newaxis]),tmp[np.newaxis])\n",
        "  \n",
        "  sd = sd/n\n",
        "  \n",
        "  return mu,sd\n",
        "\n",
        "def PDF_normaldistr(inpt,mu,sd):\n",
        "  #mu = lst[0]\n",
        "  #sd = lst[1]\n",
        "  #print(\"in pdf\")\n",
        "  tmp = inpt-mu\n",
        "  tmp = tmp[np.newaxis]\n",
        "  k = tmp.shape[1]\n",
        "  dt = np.linalg.det(sd)\n",
        "  if(dt!=0):\n",
        "    #print(\"det nonzero\")    \n",
        "    sdi = np.linalg.inv(sd)\n",
        "    expt = np.matmul(tmp,sdi)\n",
        "    expt = np.matmul(expt,np.transpose(tmp))*(-0.5)\n",
        "    expt = math.exp(expt[0][0])\n",
        "    #print(\"---\")\n",
        "    #print(expt)\n",
        "    #print(((2*math.pi)**(-0.5*k))*((dt)**(-0.5)))\n",
        "    #print(\"---\")\n",
        "    return expt*((2*math.pi)**(-0.5*k))*((dt)**(-0.5))\n",
        "  \n",
        "  else:\n",
        "    print(\"0 det\")\n",
        "    #add gaussian noise when determinant of covariance 0\n",
        "    sd1 = sd + np.random.normal(0,1,size=sd.shape)\n",
        "    sd1 = np.matmul(np.transpose(sd1),sd1)\n",
        "    sdi = np.linalg.inv(sd1)\n",
        "    dt = np.linalg.det(sd1)\n",
        "    expt = np.matmul(tmp,sdi)\n",
        "    expt = np.matmul(expt,np.transpose(tmp))*(-0.5)\n",
        "    expt = math.exp(expt[0][0])\n",
        "    return expt*((2*math.pi)**(-0.5*k))*((dt)**(-0.5))\n",
        "\n",
        "\n",
        "def predict_label_MLEGauss(lst,lst_params,prior_arr):\n",
        "\n",
        "  out_lab = (-1,0)\n",
        "\n",
        "  for indx in range(len(lst_params)):\n",
        "    theta = lst_params[indx]\n",
        "    fx_y = prior_arr[indx]\n",
        "    fx_y = fx_y*PDF_normaldistr(lst,theta[0],theta[1])\n",
        "    \n",
        "    #print(fx_y)\n",
        "    if(out_lab[0]==-1):\n",
        "      out_lab = (fx_y,indx)\n",
        "\n",
        "    else:\n",
        "      if(out_lab[0]<fx_y):\n",
        "        out_lab = (fx_y,indx)\n",
        "\n",
        "  return out_lab[1]\n",
        "\n",
        "def classify_MLE_Gauss(train_data_dict,test_data_dict,prior_arr,num_c):\n",
        "  lst_params = []\n",
        "  #true_class = []\n",
        "  given_num_c = 0\n",
        "  for k in train_data_dict.keys():\n",
        "    lst_d = train_data_dict[k]\n",
        "    mu,sd = MLE_Gaussian_Params(lst_d)\n",
        "    lst_params.append((mu,sd))\n",
        "    given_num_c+=1\n",
        "  \n",
        "  dict_true_out = {}\n",
        "  for ky in test_data_dict.keys():\n",
        "    lst_d = test_data_dict[ky]\n",
        "    out_list = []\n",
        "    for arr in lst_d:\n",
        "      out_l = predict_label_MLEGauss(arr,lst_params,prior_arr)\n",
        "      out_list.append(out_l)\n",
        "    \n",
        "    dict_true_out[ky] = out_list\n",
        "    \n",
        "  return lst_params,accuracy(dict_true_out,num_c),confusion_matrx(dict_true_out,num_c)\n",
        "\n",
        "def dict_label_gauss(test_data_dict,lst_params,prior_arr):\n",
        "  dict_true_out = {}\n",
        "  for ky in test_data_dict.keys():\n",
        "    lst_d = test_data_dict[ky]\n",
        "    out_list = []\n",
        "    for arr in lst_d:\n",
        "      out_l = predict_label_MLEGauss(arr,lst_params,prior_arr)\n",
        "      out_list.append(out_l)\n",
        "    \n",
        "    dict_true_out[ky] = out_list\n",
        "  \n",
        "  return dict_true_out"
      ],
      "execution_count": null,
      "outputs": []
    },
    {
      "cell_type": "code",
      "metadata": {
        "id": "7X3jcqN2ge9R"
      },
      "source": [
        "#doing k-fold cv on this\n",
        "best_tup = [-1,list(),list(),0]\n",
        "tr_accs = np.zeros(len(k_folds))\n",
        "for i in range(len(k_folds)):\n",
        "  temp_test = key_feat_map(k_folds[i])\n",
        "  \n",
        "  temp_train = []\n",
        "  for j in range(len(k_folds)):\n",
        "    if(j!=i):\n",
        "      temp_train.extend(k_folds[j])\n",
        "  tot_train = len(temp_train)\n",
        "  temp_train = key_feat_map(temp_train)\n",
        "  \n",
        "  mle_p = np.ones(shape=6)\n",
        "  for k in temp_train.keys():\n",
        "    mle_p[int(k)] = len(temp_train[k])/tot_train\n",
        "\n",
        "  params,acc,conf_m = classify_MLE_Gauss(temp_train,temp_test,mle_p,6)\n",
        "  tr_accs[i] = acc\n",
        "  if(acc>best_tup[0]):\n",
        "    best_tup = [acc,params,mle_p,i,conf_m]\n",
        "  del(temp_test)\n",
        "  del(temp_train)\n",
        "\n",
        "print(best_tup[0])\n",
        "print(np.mean(tr_accs))\n",
        "print(accuracy(dict_label_gauss(test_pca,best_tup[1],best_tup[2]),6))"
      ],
      "execution_count": null,
      "outputs": []
    },
    {
      "cell_type": "code",
      "metadata": {
        "colab": {
          "base_uri": "https://localhost:8080/"
        },
        "id": "7ws6-rQnRxFm",
        "outputId": "200008f9-1405-4d3f-b079-14f980184b0b"
      },
      "source": [
        "print(best_tup[4])"
      ],
      "execution_count": null,
      "outputs": [
        {
          "output_type": "stream",
          "text": [
            "[[1497    0    0    0   50   76]\n",
            " [   0    0    0 1460    0   13]\n",
            " [   0    0 1508    0   15    0]\n",
            " [   0 1594    0    0    1    0]\n",
            " [   2    0   21    3 1611   11]\n",
            " [ 158    0    0    0   17 1396]]\n"
          ],
          "name": "stdout"
        }
      ]
    },
    {
      "cell_type": "code",
      "metadata": {
        "colab": {
          "base_uri": "https://localhost:8080/"
        },
        "id": "PFDi01oFQyV1",
        "outputId": "ef9c1a28-36fe-4bfe-c1f3-b8d27d8fe428"
      },
      "source": [
        "print(precis_recall_f({},6,best_tup[4]))"
      ],
      "execution_count": null,
      "outputs": [
        {
          "output_type": "stream",
          "text": [
            "([0.9034399517199758, 0, 0.9862655330281229, 0, 0.9510035419126328, 0.9331550802139037], [0.922365988909427, 0, 0.990151017728168, 0, 0.9775485436893204, 0.8886059834500318], [0.9128048780487806, -1, 0.9882044560943644, -1, 0.9640933572710951, 0.9103358330616238], 0.29590642074597734)\n"
          ],
          "name": "stdout"
        }
      ]
    },
    {
      "cell_type": "code",
      "metadata": {
        "id": "ezNG-uYRbzgr"
      },
      "source": [
        "l1 = [[0.9034399517199758, 0, 0.9862655330281229, 0, 0.9510035419126328, 0.9331550802139037],[0.922365988909427, 0, 0.990151017728168, 0, 0.9775485436893204, 0.8886059834500318],[0.9128048780487806, 0, 0.9882044560943644, 0, 0.9640933572710951, 0.9103358330616238]]\n",
        "l2 = [[0.8659315147997678, 1.0, 0, 0.277878022374594, 0, 0.964259121370067],[0.9209876543209876, 0.5805770584095707, 0, 0.982769623484365, 0, 0.7862780813600486],[0.8926114268620999, 0.7346393588601958, 0, 0.4332536221690814, 0, 0.8662207357859533]]"
      ],
      "execution_count": null,
      "outputs": []
    },
    {
      "cell_type": "code",
      "metadata": {
        "colab": {
          "base_uri": "https://localhost:8080/"
        },
        "id": "o2lsW7-kb-Hr",
        "outputId": "08653ef2-fd26-4646-f263-2da4efa81020"
      },
      "source": [
        "for t in l2:\n",
        "  t = [round(t1,3) for t1 in t]\n",
        "  print(str(t)[1:-1].replace(\",\",\" \"))"
      ],
      "execution_count": null,
      "outputs": [
        {
          "output_type": "stream",
          "text": [
            "0.866  1.0  0  0.278  0  0.964\n",
            "0.921  0.581  0  0.983  0  0.786\n",
            "0.893  0.735  0  0.433  0  0.866\n"
          ],
          "name": "stdout"
        }
      ]
    },
    {
      "cell_type": "code",
      "metadata": {
        "colab": {
          "base_uri": "https://localhost:8080/",
          "height": 318
        },
        "id": "IEx5lmjjURvO",
        "outputId": "0f9c36e9-5b61-446f-aa8f-51de287bb62f"
      },
      "source": [
        "plot_cm(best_tup[4],6,\"Bayes, f(x|y) ~ multiv. gauss - test\")"
      ],
      "execution_count": null,
      "outputs": [
        {
          "output_type": "display_data",
          "data": {
            "image/png": "[encoded data removed]",
            "text/plain": [
              "<Figure size 432x288 with 2 Axes>"
            ]
          },
          "metadata": {
            "tags": []
          }
        },
        {
          "output_type": "execute_result",
          "data": {
            "text/plain": [
              "0"
            ]
          },
          "metadata": {
            "tags": []
          },
          "execution_count": 183
        }
      ]
    },
    {
      "cell_type": "code",
      "metadata": {
        "colab": {
          "base_uri": "https://localhost:8080/",
          "height": 318
        },
        "id": "tHGDploZhi6-",
        "outputId": "46e2651b-359a-4e7c-8721-862df1744a99"
      },
      "source": [
        "tmp_train = []\n",
        "for i in range(len(k_folds)):\n",
        "  if(i!=best_tup[3]):\n",
        "    tmp_train.extend(k_folds[i])\n",
        "tmp_train = key_feat_map(tmp_train)\n",
        "tr_cm = confusion_matrx(dict_label_gauss(tmp_train,best_tup[1],best_tup[2]),6)\n",
        "plot_cm(tr_cm,6,\"Bayes, f(x|y) ~ multiv. gauss - train\")\n",
        "print(accuracy(dict_label_gauss(tmp_train,best_tup[1],best_tup[2]),6))"
      ],
      "execution_count": null,
      "outputs": [
        {
          "output_type": "display_data",
          "data": {
            "image/png": "[encoded data removed]",
            "text/plain": [
              "<Figure size 432x288 with 2 Axes>"
            ]
          },
          "metadata": {
            "tags": []
          }
        },
        {
          "output_type": "stream",
          "text": [
            "0.6430956798303737\n"
          ],
          "name": "stdout"
        }
      ]
    },
    {
      "cell_type": "markdown",
      "metadata": {
        "id": "wzPut4Yim3cN"
      },
      "source": [
        "Bayes classifier, f(x|y)~ GMM"
      ]
    },
    {
      "cell_type": "code",
      "metadata": {
        "id": "-DmwqSkim8Wr"
      },
      "source": [
        "# import scipy.stats as spt\n",
        "\n",
        "def PDF_normaldistr1(inpt,mu,sd):\n",
        "  #handles overflow underflow etc for EM\n",
        "  # sanity check: return float(scipy.stats.multivariate_normal(inpt,mu,sd))\n",
        "  tmp = inpt-mu\n",
        "  #try block to see if std deviation arr or int, to make code work for Naive bayes too\n",
        "  try:\n",
        "    k = len(sd)\n",
        "  except:\n",
        "    return pdf_uniGauss(inpt,[mu,sd])\n",
        "\n",
        "  tmp = tmp[np.newaxis]\n",
        "  k = tmp.shape[1]\n",
        "  dt = np.linalg.det(sd)\n",
        "  \n",
        "  if(dt>10**-7):\n",
        "    #var = spt.multivariate_normal(mu, sd)\n",
        "    #return var.pdf(inpt)\n",
        "    #print(\"det nonzero\")    \n",
        "    dt = np.linalg.det(sd)\n",
        "    sdi = np.linalg.inv(sd)\n",
        "    expt = np.matmul(tmp,sdi)\n",
        "    expt = np.matmul(expt,np.transpose(tmp))*(-0.5)\n",
        "    #print(expt)\n",
        "    over_v = 0\n",
        "    if(expt>20):\n",
        "      expt = [[10]]\n",
        "      over_v = 2**(-10)\n",
        "    elif(expt<-20):\n",
        "      expt = [[-10]]\n",
        "      over_v = 2**(-10)\n",
        "    \n",
        "    t2 = ((2*math.pi)**(-0.5*k))*((dt)**(-0.5))\n",
        "    v = float(t2*np.exp(expt))\n",
        "    if(math.isnan(v)):\n",
        "      #print('nan')\n",
        "      v = over_v\n",
        "    return v\n",
        "  \n",
        "  else:\n",
        "    #print(\"0 det\")\n",
        "    sd1 = sd + np.random.normal(0,4,size=sd.shape)\n",
        "    sd1 = np.matmul(sd1.transpose(),sd1)\n",
        "    #print(np.linalg.det(sd1))\n",
        "    return PDF_normaldistr1(inpt,mu,sd1)\n",
        "\n",
        "#EM FOR GMMs, (coeff*multivariate gaussian)\n",
        "\n",
        "def latent_probs(data,gmm_coeffs,gmm_mu,gmm_sd):\n",
        "  num_data = len(data)\n",
        "  gamma_wts = np.zeros(shape=(num_data,len(gmm_coeffs)))\n",
        "  #normal_distrn = [,pdf_uniGauss]\n",
        "  #all_j_sums = []\n",
        "  for i in range(len(data)):\n",
        "    temp_sum = 0\n",
        "    for j in range(len(gmm_coeffs)):\n",
        "      \n",
        "      val = PDF_normaldistr1(data[i],gmm_mu[j],gmm_sd[j])\n",
        "    #  print(val)\n",
        "    #  print(data[i])\n",
        "    #  print(gmm_mu[j])\n",
        "    #  print(gmm_sd[j])\n",
        "      gamma_wts[i][j] = val*gmm_coeffs[j]\n",
        "    #  print(\"val is: \" + str(val))\n",
        "    #  print(\"coeff is: \" + str(gmm_coeffs[j]))\n",
        "      temp_sum += val*gmm_coeffs[j]\n",
        "      #all_j_sums.append(temp_sum)\n",
        "    #print(temp_sum)\n",
        "    if(temp_sum==0):\n",
        "        temp_sum = 10**-4\n",
        "    gamma_wts[i,:] = gamma_wts[i,:]/temp_sum\n",
        "\n",
        "  return gamma_wts \n",
        "\n",
        "def find_maximized(data,gamma_wts):\n",
        "  gmm_mu = []\n",
        "  gmm_coeffs = []\n",
        "  gmm_sd = []\n",
        "  n = gamma_wts.shape[0]\n",
        "  #print(gamma_wts.shape)\n",
        "  for k in range(gamma_wts.shape[1]):\n",
        "    pi_k = (1/n)*(np.sum(gamma_wts[:,k]))\n",
        "    if(pi_k==0):\n",
        "        pi_k = 10**-4\n",
        "    try:\n",
        "      mu_k = np.zeros(shape=len(data[0]))\n",
        "      for i in range(n):\n",
        "        mu_k += [gamma_wts[i][k]*t for t in data[i]] ##might give bt with data[i] not iterable\n",
        "      mu_k = mu_k/(n*pi_k)\n",
        "    \n",
        "      sd_k = np.zeros(shape=(len(data[0]),len(data[0])))\n",
        "      for j in range(n):\n",
        "        tmp = data[j] - mu_k\n",
        "        sd_k += np.multiply(np.matmul(np.transpose(tmp[np.newaxis]),tmp[np.newaxis]),gamma_wts[j][k])  \n",
        "      sd_k = sd_k/(n*pi_k)\n",
        "    \n",
        "    except:\n",
        "      mu_k = np.zeros(shape=1)\n",
        "      for i in range(n):\n",
        "        mu_k += gamma_wts[i][k]*data[i]\n",
        "      mu_k = mu_k/(n*pi_k)\n",
        "\n",
        "      sd_k = np.zeros(shape=(1,))\n",
        "      for j in range(n):\n",
        "        tmp = np.asarray([data[j]]) - mu_k\n",
        "        sd_k += np.multiply(np.matmul(np.transpose(tmp[np.newaxis]),tmp[np.newaxis]),gamma_wts[j][k])[0]  \n",
        "      sd_k = sd_k/(n*pi_k)\n",
        "    \n",
        "    gmm_coeffs.append(pi_k)\n",
        "    gmm_mu.append(mu_k)\n",
        "    gmm_sd.append(sd_k)\n",
        "\n",
        "  return gmm_coeffs,gmm_mu,gmm_sd\n",
        "\n",
        "def logLikeli_EMM(data,gmm_coeffs,gmm_mu,gmm_sd,gamma_coeffs):\n",
        "  logl = 0\n",
        "  for i in range(len(data)):\n",
        "    for j in range(len(gmm_coeffs)):\n",
        "     #pdf_normval = 0 \n",
        "      #try: \n",
        "      pdf_normval = PDF_normaldistr1(data[i],gmm_mu[j],gmm_sd[j])\n",
        "      #except:\n",
        "       # new_sd = gmm_sd[j] + np.random.normal(0,1,shape=gmm_sd[j].shape)\n",
        "        #pdf_normval = PDF_normaldistr(data[i],gmm_mu[j],new_sd)\n",
        "      #finally:\n",
        "      ep = 0\n",
        "      #print(gmm_coeffs[j])\n",
        "      #print(pdf_normval)\n",
        "      v1 = abs(gmm_coeffs[j]*pdf_normval)\n",
        "      if(v1==0):\n",
        "        ep = 10**-3\n",
        "       # print(ep)  \n",
        "      val = math.log(v1+ep)\n",
        "      val = val*gamma_coeffs[i][j]\n",
        "      logl+=val\n",
        "  \n",
        "  return logl\n",
        "  #print(\"bpp\")\n",
        "\n",
        "def EM_GMMs(n,data_lst,init_coeff,init_mu,init_sd,tolr=10^-3,maxiter=200):\n",
        "  stopCon=False\n",
        "  \n",
        "  init_logL,temp_logL = 0,0\n",
        "\n",
        "  iter = 0\n",
        "  if(len(init_coeff)>4):\n",
        "    maxiter = maxiter*len(init_coeff)\n",
        "    print(maxiter)\n",
        "  canCal = True\n",
        "  while(stopCon==False):\n",
        "    #print(\"iter is: \" + str(iter))\n",
        "    if(len(data_lst)>300):\n",
        "      indxs = np.random.choice(range(len(data_lst)),300, replace=False)\n",
        "      data_new = [data_lst[inx] for inx in indxs]\n",
        "    else:\n",
        "      data_new = data_lst\n",
        "    init_gm_wts = latent_probs(data_new,init_coeff,init_mu,init_sd)\n",
        "    gmmc,gmmm,gmmsd = find_maximized(data_new,init_gm_wts)\n",
        "    #print(init_gm_wts)\n",
        "    #break\n",
        "    #print([gmmc,gmmm,gmmsd])\n",
        "    #init_gm_wts = latent_probs(n,data_lst,gmmc,gmmm,gmmsd)\n",
        "    init_logL = temp_logL\n",
        "    try:\n",
        "      temp_logL = logLikeli_EMM(data_new,gmmc,gmmm,gmmsd,init_gm_wts)\n",
        "      canCal = True\n",
        "    except:\n",
        "      canCal = False #checks put in place bec. inspite of handling overfl, underfl, math domain - loglikelihood gives math errors in some fringe cases\n",
        "      #print(canCal)\n",
        "\n",
        "    iter+=1\n",
        "    del(data_new)\n",
        "    if(canCal):\n",
        "      if(abs(init_logL-temp_logL)<tolr or iter>maxiter):\n",
        "        stopCon = True\n",
        "        print(iter)\n",
        "        print(abs(init_logL-temp_logL))\n",
        "\n",
        "    else:\n",
        "      if(iter>maxiter):\n",
        "        stopCon = True\n",
        "        print(iter)\n",
        "        print(abs(init_logL-temp_logL))\n",
        "  print(\"bpp\")\n",
        "  return gmmc,gmmm,gmmsd\n",
        "\n",
        "def pdf_GMM(inpt,params):\n",
        "  gmm_c,gmm_m,gmm_sd = params[0],params[1],params[2]\n",
        "  val = 0\n",
        "  for t in range(len(gmm_c)):\n",
        "    val += gmm_c[t]*PDF_normaldistr1(inpt,gmm_m[t],gmm_sd[t])\n",
        "  return val\n",
        "\n",
        "def MLE_predictLab_GMM(inpt,params_arr,prior_arr):\n",
        "  #all_vals = []\n",
        "  max_val = (-1,0)\n",
        "  for key in params_arr.keys():\n",
        "    params = params_arr[key]\n",
        "    val = prior_arr[int(key)]\n",
        "    val = val*pdf_GMM(inpt,params)\n",
        "\n",
        "    if(max_val[0]==-1):\n",
        "      max_val = (val,key)\n",
        "    else:\n",
        "      if(max_val[0]<val):\n",
        "        max_val = (val,key)\n",
        "\n",
        "  return max_val[1] \n",
        "\n",
        "def find_params_traindict(train_dict,init_guess):\n",
        "  params_dict = {}\n",
        "  for k in train_dict.keys():\n",
        "      c,mu,sd = EM_GMMs(len(train_dict[k]),train_dict[k],init_guess[0],init_guess[1],init_guess[2])\n",
        "      params_dict[k] = (c,mu,sd)\n",
        "  return params_dict\n",
        "\n",
        "def tested_labs(test_dict,params_dict,prior_arr):\n",
        "  tested_labels = {}\n",
        "  for k in test_dict.keys():\n",
        "    feats = test_dict[k]\n",
        "    out_labs = []\n",
        "    for feat in feats:\n",
        "      labl = MLE_predictLab_GMM(feat,params_dict,prior_arr)\n",
        "      out_labs.append(labl)\n",
        "    tested_labels[k] = out_labs\n",
        "  return tested_labels\n",
        "\n",
        "def MLE_Bayes_GMM(train_dict,test_dict,init_guess,prior_arr1,num_c):\n",
        "  params_dict = find_params_traindict(train_dict,init_guess)\n",
        "\n",
        "  tested_labels = tested_labs(test_dict,params_dict,prior_arr1)\n",
        "  test_acc = accuracy(tested_labels,num_c)\n",
        "\n",
        "  return params_dict,test_acc,confusion_matrx(tested_labels,num_c)"
      ],
      "execution_count": null,
      "outputs": []
    },
    {
      "cell_type": "code",
      "metadata": {
        "id": "C-wuEWdJpx4R"
      },
      "source": [
        "def generate_random_initguess(num_comps,num_feat,coeff=1,ub=25):\n",
        "  gmm_coeffs = [1/num_comps for t in range(num_comps)]\n",
        "  if(num_feat==1):\n",
        "    gmm_mu = [np.random.rand(1) for i in range(num_comps)]\n",
        "    gmm_sd = [np.random.randint(1,4) for i in range(num_comps)]\n",
        "    return {0:gmm_coeffs,1:gmm_mu,2:gmm_sd}\n",
        "  \n",
        "  gmm_mu = [np.random.rand(num_feat) for i in range(num_comps)]\n",
        "  #k = len(train_d)/(5*num_comps)\n",
        "  gmm_sd = [np.cov([np.random.randint(0,ub,size=6) for t in range(num_feat)]) for k11 in range(num_comps)]\n",
        "  gmm_sd = [np.matmul(np.transpose(tmp),tmp) for tmp in gmm_sd]\n",
        "  print([np.linalg.det(t) for t in gmm_sd])\n",
        "  return {0:gmm_coeffs,1:gmm_mu,2:gmm_sd}"
      ],
      "execution_count": null,
      "outputs": []
    },
    {
      "cell_type": "code",
      "metadata": {
        "id": "zbzoNoAzA7V1"
      },
      "source": [
        "#generate_random_initguess(2,5)"
      ],
      "execution_count": null,
      "outputs": []
    },
    {
      "cell_type": "code",
      "metadata": {
        "id": "z4OBFFE5pgqE"
      },
      "source": [
        "#doing k-fold cv on this\n",
        "#init_g = generate_random_initguess(num_comps,5)\n",
        "#init_g = best_tup[1]\n",
        "\n",
        "best_tup = [-1,list(),list(),0]\n",
        "num_comps = 2\n",
        "all_tups = []\n",
        "#print(len(all_tups1))\n",
        "\n",
        "for i in range(len(k_folds)):\n",
        "  np.random.seed(i)\n",
        "  temp_test = key_feat_map(k_folds[i])\n",
        "  init_g = guesses_int[i]\n",
        "  temp_train = []\n",
        "  for j in range(len(k_folds)):\n",
        "    if(j!=i):\n",
        "      temp_train.extend(k_folds[j])\n",
        "  \n",
        "  tot_train = len(temp_train)\n",
        "  #print(np.cov(np.asarray(temp_train)))\n",
        "  \n",
        "  #print(init_g[2][0])\n",
        "  #break\n",
        "  temp_train = key_feat_map(temp_train)\n",
        "  \n",
        "  mle_p = np.ones(shape=6)\n",
        "  for k in temp_train.keys():\n",
        "    mle_p[int(k)] = len(temp_train[k])/tot_train\n",
        "  \n",
        "  params,acc,cm = MLE_Bayes_GMM(temp_train,temp_test,init_g,mle_p,6)\n",
        "  all_tups.append([acc,params,mle_p,i,cm])\n",
        "  if(acc>best_tup[0]):\n",
        "    best_tup = [acc,params,mle_p,i,cm]\n",
        "  #break\n",
        "print(best_tup[0])"
      ],
      "execution_count": null,
      "outputs": []
    },
    {
      "cell_type": "code",
      "metadata": {
        "colab": {
          "base_uri": "https://localhost:8080/"
        },
        "id": "5eVcljZAZFgT",
        "outputId": "917c1878-3540-45ea-c101-605ef881b067"
      },
      "source": [
        "#print(best_tup[1])\n",
        "all_tups1 = [t[1] for t in all_tups]\n",
        "print(all_tups1[0][0])\n",
        "guesses_int = []\n",
        "for k in all_tups1:\n",
        "  dct = {}\n",
        "  iz = np.random.randint(0,6,size=3)\n",
        "  dct[0] = k[iz[0]][0]\n",
        "  dct[1] = k[iz[1]][1]\n",
        "  dct[2] = k[iz[2]][2]\n",
        "  guesses_int.append(dct)"
      ],
      "execution_count": null,
      "outputs": [
        {
          "output_type": "stream",
          "text": [
            "([0.0261595968552636, 0.9738404031447365], [array([ 4.16133574, -2.07188781,  2.78675042, -3.33089132,  1.0502281 ]), array([ 4.16133574, -2.07188781,  2.78675042, -3.33089132,  1.0502281 ])], [array([[ 3.85199948, -0.6888772 ,  1.84996562, -2.41251965,  0.23625981],\n",
            "       [-0.6888772 ,  0.71289171, -0.88127953,  0.66801906, -0.43048782],\n",
            "       [ 1.84996562, -0.88127953,  2.8014153 , -2.56409746,  1.41146139],\n",
            "       [-2.41251965,  0.66801906, -2.56409746,  5.33881698, -2.63050331],\n",
            "       [ 0.23625981, -0.43048782,  1.41146139, -2.63050331,  3.24180843]]), array([[ 3.85199948, -0.6888772 ,  1.84996562, -2.41251965,  0.23625981],\n",
            "       [-0.6888772 ,  0.71289171, -0.88127953,  0.66801906, -0.43048782],\n",
            "       [ 1.84996562, -0.88127953,  2.8014153 , -2.56409746,  1.41146139],\n",
            "       [-2.41251965,  0.66801906, -2.56409746,  5.33881698, -2.63050331],\n",
            "       [ 0.23625981, -0.43048782,  1.41146139, -2.63050331,  3.24180843]])])\n"
          ],
          "name": "stdout"
        }
      ]
    },
    {
      "cell_type": "code",
      "metadata": {
        "colab": {
          "base_uri": "https://localhost:8080/"
        },
        "id": "xVJCCOwDU71r",
        "outputId": "e77106a7-dbcd-4771-8d27-47ca95c29530"
      },
      "source": [
        "print(best_tup[0])\n",
        "print(np.mean(np.asarray([t[0] for t in all_tups])))\n",
        "print(accuracy(tested_labs(test_pca,best_tup[1],best_tup[2]),6))\n",
        "cm = all_tups[best_tup[3]][4]\n",
        "print(cm)\n",
        "print(precis_recall_f({},6,cm))"
      ],
      "execution_count": null,
      "outputs": [
        {
          "output_type": "stream",
          "text": [
            "0.5461677091063288\n",
            "0.5133473233438598\n",
            "0.5495717072343312\n",
            "[[1492    0    0   85    0   43]\n",
            " [   0  825    0  596    0    0]\n",
            " [   0    0    0 1650    0    0]\n",
            " [  27    0    0 1540    0    0]\n",
            " [   1    0    0 1522    0    5]\n",
            " [ 203    0    0  149    0 1295]]\n",
            "([0.8659315147997678, 1.0, 0, 0.277878022374594, 0, 0.964259121370067], [0.9209876543209876, 0.5805770584095707, 0, 0.982769623484365, 0, 0.7862780813600486], [0.8926114268620999, 0.7346393588601958, -1, 0.4332536221690814, -1, 0.8662207357859533], 0.15445419061288843)\n"
          ],
          "name": "stdout"
        }
      ]
    },
    {
      "cell_type": "code",
      "metadata": {
        "colab": {
          "base_uri": "https://localhost:8080/",
          "height": 318
        },
        "id": "Jf1ngFPyYyOg",
        "outputId": "68540438-eb02-4223-e1ba-998200fb6647"
      },
      "source": [
        "plot_cm(cm,6,\"Bayes, f(x|y) ~ 2 GMM test\")"
      ],
      "execution_count": null,
      "outputs": [
        {
          "output_type": "display_data",
          "data": {
            "image/png": "[encoded data removed]",
            "text/plain": [
              "<Figure size 432x288 with 2 Axes>"
            ]
          },
          "metadata": {
            "tags": []
          }
        },
        {
          "output_type": "execute_result",
          "data": {
            "text/plain": [
              "0"
            ]
          },
          "metadata": {
            "tags": []
          },
          "execution_count": 195
        }
      ]
    },
    {
      "cell_type": "code",
      "metadata": {
        "colab": {
          "base_uri": "https://localhost:8080/",
          "height": 318
        },
        "id": "M_4a3GaLrPXJ",
        "outputId": "230436a0-3d00-42ce-f866-0997e6a6d1db"
      },
      "source": [
        "tmp_train = []\n",
        "for i in range(len(k_folds)):\n",
        "  if(i!=best_tup[3]):\n",
        "    tmp_train.extend(k_folds[i])\n",
        "tmp_train = key_feat_map(tmp_train)\n",
        "out1 = tested_labs(tmp_train,best_tup[1],best_tup[2])\n",
        "\n",
        "tr_cm = confusion_matrx(out1,6)\n",
        "plot_cm(tr_cm,6,\"Bayes, f(x|y) ~ 2 GMM - train\")\n",
        "print(accuracy(out1,6))"
      ],
      "execution_count": null,
      "outputs": [
        {
          "output_type": "display_data",
          "data": {
            "image/png": "[encoded data removed]",
            "text/plain": [
              "<Figure size 432x288 with 2 Axes>"
            ]
          },
          "metadata": {
            "tags": []
          }
        },
        {
          "output_type": "stream",
          "text": [
            "0.5417704744235357\n"
          ],
          "name": "stdout"
        }
      ]
    },
    {
      "cell_type": "markdown",
      "metadata": {
        "id": "9joH4sS8_cog"
      },
      "source": [
        "Experiments with Naive Bayes"
      ]
    },
    {
      "cell_type": "code",
      "metadata": {
        "id": "Vdh8g8HHsLOG"
      },
      "source": [
        "import pickle\n",
        "with open(\"/content/drive/MyDrive/Assignment1_ELL409/Q3/5Fold_3PCA.pickle\",\"rb\") as f:\n",
        "  k_folds3 = pickle.load(f)\n",
        "\n",
        "with open(\"/content/drive/MyDrive/Assignment1_ELL409/Q3/testdict_3PCA.pickle\",\"rb\") as f:\n",
        "  test_pca3 = pickle.load(f)\n"
      ],
      "execution_count": null,
      "outputs": []
    },
    {
      "cell_type": "code",
      "metadata": {
        "id": "NU6W2D5dbFXZ"
      },
      "source": [
        "#Naive bayes experiments\n",
        "def MLE_uniGMM(data):\n",
        "  num_comps = 2\n",
        "  init_guess = generate_random_initguess(num_comps,1,0.1,20)\n",
        "  print(init_guess)\n",
        "  c,mu,sd = EM_GMMs(len(data),data,init_guess[0],init_guess[1],init_guess[2],50)\n",
        "  #print(c)\n",
        "  #print(mu)\n",
        "  #print(sd)\n",
        "  return [c,mu,sd]\n",
        "\n",
        "def pdf_uniGMM(inpt,params):\n",
        "  gmm_c,gmm_m,gmm_sd = params[0],params[1],params[2]\n",
        "  val = 0\n",
        "  for t in range(len(gmm_c)):\n",
        "    val += gmm_c[t]*pdf_uniGauss(inpt,[gmm_m[t],gmm_sd[t]])\n",
        "  return val\n",
        "\n",
        "def MLE_uniGauss(data):\n",
        "  #data has to be single feature ka array\n",
        "  mu = np.sum(data)\n",
        "  mu = mu/len(data)\n",
        "  #print(mu)\n",
        "  #print(data)\n",
        "  #tmp = [(t - mu)**2 for t in data]\n",
        "  tmp = 0\n",
        "  for t in data:\n",
        "    tmp += (t-mu)**2\n",
        "  sd = (1/(len(data)))*(tmp)\n",
        "  return [mu,math.sqrt(sd)]\n",
        "\n",
        "def pdf_uniGauss(x,lst):\n",
        "  mu = lst[0]\n",
        "  sd = lst[1]\n",
        "  if(sd==0):\n",
        "    sd = 10**-4\n",
        "  expt = (-0.5)*(x-mu)*(x-mu)*(1/sd)\n",
        "  return (1/sd)*(0.5)*(1/(math.pi))*math.exp(expt)\n",
        "\n",
        "def MLE_uniExp(data):\n",
        "  #data has to be single feature ka array\n",
        "  #would need to be modified to Laplacian agar neg features possible\n",
        "  mu = 0\n",
        "  lend = 0\n",
        "  for t in data:\n",
        "    if(t>=0):\n",
        "      mu+=t\n",
        "      lend+=1\n",
        "  if(lend!=0):\n",
        "    mu = mu/lend\n",
        "  else:\n",
        "    mu = 0\n",
        "  return [mu]\n",
        "\n",
        "def pdf_uniExp(x,mu1):\n",
        "  if(x<0):\n",
        "    return 0\n",
        "\n",
        "  mu = mu1[0]\n",
        "  if(mu<=0):\n",
        "    return 0\n",
        " # print(mu)\n",
        "  t = -x/mu\n",
        "  if(t<-20):\n",
        "    t = -10\n",
        "  t = math.exp(t)\n",
        "  t = t/mu\n",
        "  if(math.isnan(t)):\n",
        "    t=0\n",
        "  return t\n",
        "\n",
        "def MLE_uniUnf(data):\n",
        "  #data has to be single feature ka array\n",
        "  return [np.amax(data)-np.amin(data),np.amin(data),np.amax(data)]\n",
        "\n",
        "def pdf_uniUnf(x,mu):\n",
        "  a = mu[1]\n",
        "  b = mu[2]\n",
        "  if(x>a and x<b):\n",
        "      return 1/mu[0]\n",
        "  else:\n",
        "    return 0"
      ],
      "execution_count": null,
      "outputs": []
    },
    {
      "cell_type": "code",
      "metadata": {
        "id": "xB63-aj0_VZ3"
      },
      "source": [
        "#MLE for Naive Bayes || \n",
        "\n",
        "def MLE_predictLab_Naive(test,params_arr,fn_arr,priors):\n",
        "  #all_vals = []\n",
        "  max_val = (-1,0)\n",
        "  #print(params_arr.keys())\n",
        "  \n",
        "  for key in params_arr.keys():\n",
        "   #print(key)\n",
        "    params = params_arr[key]\n",
        "    val = 1\n",
        "    \n",
        "    for i in range(len(test)):\n",
        "    #  print(test[i])\n",
        "    #  print(\"asjkdniioeir\")\n",
        "    #  print(params[i])\n",
        "    #  print(\"shefoiheior\")\n",
        "      pxi_y = fn_arr[i](test[i],params[i])\n",
        "      val = val*pxi_y\n",
        "    \n",
        "    py = priors[int(key)] #equiprobable for now\n",
        "    val = val*py\n",
        "\n",
        "    if(max_val[0]==-1):\n",
        "      max_val = (val,key)\n",
        "    else:\n",
        "      if(max_val[0]<val):\n",
        "        max_val = (val,key)\n",
        "\n",
        "  #print(\"boo\") \n",
        "  return max_val[1] \n",
        "\n",
        "def MAP_expo_fXY_theta(lst):\n",
        "  #[data,theta_prior_param]\n",
        "  data = lst[0]\n",
        "  #print(data)\n",
        "  theta_prior_param = lst[1]\n",
        "  n = 0\n",
        "  val = 0\n",
        "  for t in data:\n",
        "    if(t>=0):\n",
        "      val+=t\n",
        "      n+=1\n",
        "  #print(str(val)+\" sdjidjioje\")\n",
        "  val = float(theta_prior_param[0]+val)\n",
        "  return [n*(1/val)]\n",
        "\n",
        "def MAP_gauss_fXY_theta_varfix(lst):\n",
        "  #[data,theta_prior_params,var]\n",
        "  data = lst[0]\n",
        "  theta_prior_params = lst[1][0]\n",
        "  var = lst[1][1]\n",
        "  n = len(data)\n",
        "  s = sum(data)\n",
        "  sm2 = theta_prior_params[1]**2\n",
        "  xv = (sm2*s + (var**2)*theta_prior_params[0])/(sm2*n+(var**2))\n",
        "  return [xv,var]\n",
        "\n",
        "\n",
        "def labels_mle_naive(test_dict1,params_arr,fn_arr,priors):\n",
        "  dict_true_out = {}\n",
        "  for k in test_dict1.keys():\n",
        "    lst_feats = test_dict1[k]\n",
        "    out_labels = []\n",
        "\n",
        "    for feat in lst_feats:\n",
        "      lbl = MLE_predictLab_Naive(feat,params_arr,fn_arr,priors)\n",
        "      out_labels.append(lbl)\n",
        "\n",
        "    dict_true_out[k] = out_labels\n",
        "  \n",
        "  return dict_true_out\n",
        "\n",
        "def MLE_classify_Naive(train_dict,test_dict,MLE_arr,fn_arr,is_iid,priors,num_f,map_lst={}):\n",
        "  \n",
        "  #training\n",
        "  params_arr = {}\n",
        "  \n",
        "  for key1 in train_dict.keys():\n",
        "    lst_d = train_dict[key1]\n",
        "    len_feat = len(lst_d[0])\n",
        "    feat_params = []\n",
        "    \n",
        "    if(is_iid==1):\n",
        "      for i in range(len_feat):\n",
        "        xi = lst_d[:,i]\n",
        "       # print(xi)\n",
        "        fn = MLE_arr[i]\n",
        "        if fn not in map_lst.keys(): \n",
        "          feat_params.append(fn(xi))\n",
        "        else:\n",
        "          \n",
        "          feat_params.append(fn([xi,map_lst[fn]]))\n",
        "      #print(feat_params)\n",
        "    \n",
        "    else:\n",
        "      #build dict\n",
        "      feat_params = [0 for t in range(len_feat)]\n",
        "      #print(len_feat)\n",
        "      MLE_dict = {}\n",
        "      for i in range(len(MLE_arr)):\n",
        "        key = MLE_arr[i]\n",
        "        #print(key)\n",
        "        if key in MLE_dict.keys():\n",
        "          MLE_dict[key].append(i)\n",
        "        else:\n",
        "          MLE_dict[key] = [i]\n",
        "      \n",
        "      for fn in MLE_dict.keys():\n",
        "        \n",
        "        feats = MLE_dict[fn]\n",
        "        #print(feats)\n",
        "        data_all = list(lst_d[:,feats[0]])\n",
        "        #print(feats)\n",
        "        for j in range(1,len(feats)):\n",
        "          #np.append(data_all,lst_d[:,feats[j]])\n",
        "          data_all.extend(list(lst_d[:,feats[j]]))\n",
        "        #print(data_all)\n",
        "        if fn not in map_lst.keys(): \n",
        "          lst_params = fn(data_all)\n",
        "        else:\n",
        "          lst_params = fn([data_all,map_lst[fn]])\n",
        "          #print(lst_params)\n",
        "      #print(feat_params)\n",
        "        for t in feats:\n",
        "          feat_params[t] = lst_params\n",
        "    \n",
        "    params_arr[key1] = feat_params  \n",
        "\n",
        "    #testing\n",
        "  #print(params_arr)\n",
        "  outp = labels_mle_naive(test_dict,params_arr,fn_arr,priors)\n",
        "  return params_arr,accuracy(outp,num_f),confusion_matrx(outp,num_f)"
      ],
      "execution_count": null,
      "outputs": []
    },
    {
      "cell_type": "code",
      "metadata": {
        "id": "V2UdJMuRBnK8"
      },
      "source": [
        "MLE_all = [MLE_uniGauss,MLE_uniExp,MLE_uniUnf,MLE_uniGMM, MAP_expo_fXY_theta, MAP_gauss_fXY_theta_varfix]\n",
        "fn_all = [pdf_uniGauss,pdf_uniExp,pdf_uniUnf,pdf_uniGMM,pdf_uniExp, pdf_uniGauss]\n",
        "#if tweaking functions maKE SURE YOU RECOMPILE THESE ARRAYS"
      ],
      "execution_count": null,
      "outputs": []
    },
    {
      "cell_type": "code",
      "metadata": {
        "id": "lCzXmEOEBsVZ"
      },
      "source": [
        "inx = [1,0,0,1,4]\n",
        "MLE_arr = [MLE_all[i] for i in inx]\n",
        "fn_arr = [fn_all[i] for i in inx]\n",
        "f_dict = {MLE_all[4]:[5],MLE_all[5]:[[3,4],5]}"
      ],
      "execution_count": null,
      "outputs": []
    },
    {
      "cell_type": "code",
      "metadata": {
        "colab": {
          "base_uri": "https://localhost:8080/"
        },
        "id": "VZzTuPCKtGg5",
        "outputId": "17793620-048e-4aa3-8bb8-48c78d4dec2f"
      },
      "source": [
        "from itertools import combinations_with_replacement, permutations\n",
        "\n",
        "all_inx = []\n",
        "cmb = combinations_with_replacement([0,1,2],3)\n",
        "\n",
        "for t in list(cmb):\n",
        "    print(t)\n",
        "    pmt = permutations(t)\n",
        "    #print(set(pmt))\n",
        "    all_inx.extend(set(pmt))\n",
        "    #break\n",
        "#print(all_inx)"
      ],
      "execution_count": null,
      "outputs": [
        {
          "output_type": "stream",
          "text": [
            "(0, 0, 0)\n",
            "(0, 0, 1)\n",
            "(0, 0, 2)\n",
            "(0, 1, 1)\n",
            "(0, 1, 2)\n",
            "(0, 2, 2)\n",
            "(1, 1, 1)\n",
            "(1, 1, 2)\n",
            "(1, 2, 2)\n",
            "(2, 2, 2)\n"
          ],
          "name": "stdout"
        }
      ]
    },
    {
      "cell_type": "code",
      "metadata": {
        "id": "zluWslQfu_S7"
      },
      "source": [
        "def train_validation_spl(k_folds,i):\n",
        "    #assert i<len(k_folds)\n",
        "    temp_test = key_feat_map(k_folds[i])\n",
        "\n",
        "    temp_train = []\n",
        "    for j in range(len(k_folds)):\n",
        "        if(j!=i):\n",
        "          temp_train.extend(k_folds[j])\n",
        "    \n",
        "    tot_train = len(temp_train)\n",
        "    temp_train = key_feat_map(temp_train)\n",
        "\n",
        "    mle_p = np.ones(shape=6)\n",
        "    for k in temp_train.keys():\n",
        "        mle_p[int(k)] = len(temp_train[k])/tot_train\n",
        "    return temp_test,temp_train,mle_p  "
      ],
      "execution_count": null,
      "outputs": []
    },
    {
      "cell_type": "code",
      "metadata": {
        "id": "bhbhgXYstJUH"
      },
      "source": [
        "#doing k-fold cv on this\n",
        "best_acc = [-1]\n",
        "all_acs = []\n",
        "iid_v = 1\n",
        "\n",
        "for inx in all_inx:\n",
        "#f_dict = {MLE_all[4]:[5],MLE_all[5]:[[3,4],5]}\n",
        "    #try:\n",
        "     if(1==1): \n",
        "        MLE_arr = [MLE_all[i] for i in inx]\n",
        "        fn_arr = [fn_all[i] for i in inx]\n",
        "        f_dict = {MLE_all[4]:[5]}\n",
        "        best_tup = [-1,list(),list(),0]\n",
        "        num_comps = 2\n",
        "        accs = np.zeros(len(k_folds3))\n",
        "        best_testset = {}\n",
        "        for i in range(len(k_folds3)):\n",
        "          temp_test,temp_train,mle_p = train_validation_spl(k_folds3,i)\n",
        "\n",
        "          params,acc,cf = MLE_classify_Naive(temp_train,temp_test,MLE_arr,fn_arr,iid_v,mle_p,6,f_dict)\n",
        "          accs[i] = acc\n",
        "          if(acc>best_tup[0]):\n",
        "            best_tup = [acc,params,mle_p,i,cf]\n",
        "            best_trset = temp_train\n",
        "\n",
        "        test_acc = accuracy(labels_mle_naive(test_pca3,best_tup[1],fn_arr,best_tup[2]),6)\n",
        "        if(test_acc>best_acc[0]):\n",
        "            best_acc = [test_acc,inx]\n",
        "\n",
        "        tr_out = labels_mle_naive(best_trset,best_tup[1],fn_arr,best_tup[2])\n",
        "        train_acc = accuracy(tr_out,6)\n",
        "        \n",
        "        p,r,f,mf = precis_recall_f({},6,best_tup[4])\n",
        "        result_row = [test_acc,train_acc,np.mean(accs),p,r,f,mf,best_tup[4],confusion_matrx(tr_out,6),inx]\n",
        "        del(tr_out)\n",
        "        #opt_params = best_tup[1]\n",
        "        #traindict,valdict,mle_prior = train_validation_spl(k_folds3,best_tup[3])\n",
        "        #num_pts = 150\n",
        "\n",
        "        all_acs.append(result_row)\n",
        "        \n",
        "    # except:\n",
        "    #     print(\"problem with \" + str(inx))\n",
        "    # #xax = np.linspace(0,1,num_pts,endpoint=False)\n",
        "    #xtitle = \"P(Y=0)\"\n",
        "    #plt_tstr_acc(test_acc,train_acc,mle_pt,xax,xtitle,\"Naive Bayes, \" +str(inx),\"Downloads/NB_\" + str(inx)+\"_tstr_1.png\")\n",
        "    # return tpr,fpr,mle_pt,train_acc,test_acc,mle_accplt"
      ],
      "execution_count": null,
      "outputs": []
    },
    {
      "cell_type": "code",
      "metadata": {
        "colab": {
          "base_uri": "https://localhost:8080/"
        },
        "id": "bN07Yuf22EZe",
        "outputId": "eaf4e711-0a84-43ff-88ab-67f676b57d99"
      },
      "source": [
        "print(best_acc)"
      ],
      "execution_count": null,
      "outputs": [
        {
          "output_type": "stream",
          "text": [
            "[0.9229921126282759, (2, 0, 0)]\n"
          ],
          "name": "stdout"
        }
      ]
    },
    {
      "cell_type": "code",
      "metadata": {
        "id": "mbRdcg1E2HE3"
      },
      "source": [
        "good_inx = []\n",
        "for t in range(len(all_acs)):\n",
        "  if(all_acs[t][0]>0.8):\n",
        "    good_inx.append(t)\n",
        "    #print(all_acs[t])"
      ],
      "execution_count": null,
      "outputs": []
    },
    {
      "cell_type": "code",
      "metadata": {
        "colab": {
          "base_uri": "https://localhost:8080/",
          "height": 635
        },
        "id": "gLbm8mNZdsgz",
        "outputId": "f75e68af-e99a-4fb4-80d6-1d325f82b0b7"
      },
      "source": [
        "for t in good_inx:\n",
        "  val = all_acs[t]\n",
        "  if(val[-1]==best_acc[1]):\n",
        "    ts_vals = precis_recall_f({},6,val[-3])\n",
        "    \n",
        "    plot_cm(val[-3],6,\"Naive Bayes, MLE, \" + str(val[-1]) + \" iid, test CM\")\n",
        "    plot_cm(val[-2],6,\"Naive Bayes, MLE, \" + str(val[-1]) + \" iid, train CM\")\n",
        "    for i in range(0,3):\n",
        "      t1 = list([round(k1,3) for k1 in ts_vals[i]])\n",
        "      print(str(t1)[1:-1].replace(\",\",\" \"))\n",
        "  \n",
        "  #print(val[-1])\n",
        "  #print(str(val[-1])[1:-1].replace(\", \",\"\"))\n",
        "  #print(str([round(k1,3) for k1 in val[:3]])[1:-1].replace(\", \",\" \"))\n",
        "  #print(str([round(k1,3) for k1 in [val[6]]])[1:-1].replace(\", \",\" \"))"
      ],
      "execution_count": null,
      "outputs": [
        {
          "output_type": "display_data",
          "data": {
            "image/png": "[encoded data removed]",
            "text/plain": [
              "<Figure size 432x288 with 2 Axes>"
            ]
          },
          "metadata": {
            "tags": []
          }
        },
        {
          "output_type": "display_data",
          "data": {
            "image/png": "[encoded data removed]",
            "text/plain": [
              "<Figure size 432x288 with 2 Axes>"
            ]
          },
          "metadata": {
            "tags": []
          }
        },
        {
          "output_type": "stream",
          "text": [
            "0.827  0.996  0.935  0.997  0.889  0.931\n",
            "0.974  0.999  0.922  0.999  0.903  0.748\n",
            "0.895  0.998  0.928  0.998  0.896  0.829\n"
          ],
          "name": "stdout"
        }
      ]
    },
    {
      "cell_type": "code",
      "metadata": {
        "id": "htM5hhJJ31hi"
      },
      "source": [
        "all_acs1 = []\n",
        "best_acc1 = [-1]\n",
        "for t in good_inx:\n",
        "    f_dict = {MLE_all[4]:[10],MLE_all[5]:[[2,10],5]}\n",
        "    indx = list(all_inx[t])\n",
        "    has_v = {}\n",
        "    for indx_t in range(len(indx)):\n",
        "        if(indx[indx_t]==0):\n",
        "            indx[indx_t] = 5\n",
        "            has_v[0] = indx_t\n",
        "        if(indx[indx_t]==1):\n",
        "            indx[indx_t] = 4\n",
        "            has_v[1] = indx_t\n",
        "    inx = indx     \n",
        "    if(len(has_v.keys())>0): \n",
        "        MLE_arr = [MLE_all[i] for i in inx]\n",
        "        fn_arr = [fn_all[i] for i in inx]\n",
        "        #f_dict = {MLE_all[4]:[5]}\n",
        "        best_tup = [-1,list(),list(),0]\n",
        "        num_comps = 2\n",
        "        accs = np.zeros(len(k_folds3))\n",
        "        best_testset = {}\n",
        "        for i in range(len(k_folds3)):\n",
        "          temp_test,temp_train,mle_p = train_validation_spl(k_folds3,i)\n",
        "  \n",
        "          if 0 in has_v.keys():\n",
        "              tr_dat = []\n",
        "              for k in temp_train.keys():\n",
        "                tr_dat.extend(temp_train[k])\n",
        "              tr_dat = np.asarray(tr_dat)\n",
        "\n",
        "              var = np.std(tr_dat[:,has_v[0]])\n",
        "              f_dict[MLE_all[5]] = [[3,4],var]\n",
        "          \n",
        "          params,acc,cf = MLE_classify_Naive(temp_train,temp_test,MLE_arr,fn_arr,iid_v,mle_p,6,f_dict)\n",
        "          accs[i] = acc\n",
        "          if(acc>best_tup[0]):\n",
        "            best_tup = [acc,params,mle_p,i,cf]\n",
        "            best_testset = temp_train\n",
        "\n",
        "        test_acc = accuracy(labels_mle_naive(test_pca3,best_tup[1],fn_arr,best_tup[2]),6)\n",
        "        if(test_acc>best_acc1[0]):\n",
        "            best_acc1 = [test_acc,inx]\n",
        "        tr_out = labels_mle_naive(best_testset,best_tup[1],fn_arr,best_tup[2])\n",
        "        train_acc = accuracy(tr_out,6)\n",
        "        \n",
        "        p,r,f,mf = precis_recall_f({},6,best_tup[4])\n",
        "        result_row = [test_acc,train_acc,np.mean(accs),p,r,f,mf,best_tup[4],confusion_matrx(tr_out,6),inx]\n",
        "        del(tr_out)\n",
        "        #opt_params = best_tup[1]\n",
        "        #traindict,valdict,mle_prior = train_validation_spl(k_folds3,best_tup[3])\n",
        "        #num_pts = 150\n",
        "\n",
        "        all_acs1.append(result_row)\n",
        "        \n",
        "    # except:\n",
        "    #     print(\"problem with \" + str(inx))\n",
        "    # #xax = np.linspace(0,1,num_pts,endpoint=False)\n",
        "    #xtitle = \"P(Y=0)\"\n",
        "    #plt_tstr_acc(test_acc,train_acc,mle_pt,xax,xtitle,\"Naive Bayes, \" +str(inx),\"Downloads/NB_\" + str(inx)+\"_tstr_1.png\")\n",
        "    # return tpr,fpr,mle_pt,train_acc,test_acc,mle_accplt"
      ],
      "execution_count": null,
      "outputs": []
    },
    {
      "cell_type": "code",
      "metadata": {
        "id": "BqqOR2hu6cvM"
      },
      "source": [
        "for t in range(len(all_acs1)):\n",
        "  val = all_acs1[t]\n",
        "  if(val[-1]==best_acc1[1]):\n",
        "    ts_vals = precis_recall_f({},6,val[-3])\n",
        "    \n",
        "    plot_cm(val[-3],6,\"Naive Bayes, MAP, \" + str(val[-1]) + \" iid, test CM\")\n",
        "    plot_cm(val[-2],6,\"Naive Bayes, MAP, \" + str(val[-1]) + \" iid, train CM\")\n",
        "    for i in range(0,3):\n",
        "      t1 = list([round(k1,3) for k1 in ts_vals[i]])\n",
        "      print(str(t1)[1:-1].replace(\",\",\" \"))\n",
        "\n",
        "  #print(str([round(k1,3) for k1 in val[:3]])[1:-1].replace(\", \",\" \"))\n",
        "  #print(str([round(k1,3) for k1 in [val[6]]])[1:-1].replace(\", \",\" \"))"
      ],
      "execution_count": null,
      "outputs": []
    },
    {
      "cell_type": "code",
      "metadata": {
        "id": "_pzENfSacZIv"
      },
      "source": [
        "# #doing k-fold cv on this\n",
        "# best_tup = [-1,list(),list(),0]\n",
        "# num_comps = 2\n",
        "# for i in range(len(k_folds)):\n",
        "#   temp_test = key_feat_map(k_folds[i])\n",
        "  \n",
        "#   temp_train = []\n",
        "#   for j in range(len(k_folds)):\n",
        "#     if(j!=i):\n",
        "#       temp_train.extend(k_folds[j])\n",
        "  \n",
        "#   tot_train = len(temp_train)\n",
        "  \n",
        "#   temp_train = key_feat_map(temp_train)\n",
        "  \n",
        "#   mle_p = np.ones(shape=6)\n",
        "#   for k in temp_train.keys():\n",
        "#     mle_p[int(k)] = len(temp_train[k])/tot_train\n",
        "  \n",
        "#   params,acc = MLE_classify_Naive(temp_train,temp_test,MLE_arr,fn_arr,0,mle_p,6,f_dict)\n",
        "#   if(acc>best_tup[0]):\n",
        "#     best_tup = [acc,params,mle_p,i]\n",
        "#   #break\n",
        "# print(best_tup)\n",
        "\n",
        "# #print(accuracy(dict_label_gauss(test_pca,best_tup[1],best_tup[2]),6))"
      ],
      "execution_count": null,
      "outputs": []
    },
    {
      "cell_type": "markdown",
      "metadata": {
        "id": "pqHtY2oCLN2D"
      },
      "source": [
        "Parzen window estimation"
      ]
    },
    {
      "cell_type": "code",
      "metadata": {
        "id": "rvrsILdpz4Yw"
      },
      "source": [
        "import numpy as np\n",
        "train_pca3 = k_folds3[0]\n",
        "for i in range(1,5):\n",
        "  train_pca3.extend(k_folds3[i])\n",
        "\n",
        "train_pca3 = key_feat_map(train_pca3)"
      ],
      "execution_count": null,
      "outputs": []
    },
    {
      "cell_type": "code",
      "metadata": {
        "id": "j30tFRfKJv1C"
      },
      "source": [
        "#Parzen window est. \n",
        "from numba import jit,njit\n",
        "\n",
        "def hypercube_fn(subs_vec,width=1):\n",
        "  for t in subs_vec:\n",
        "    if(np.abs(t)>(0.5*width)):\n",
        "      return 0\n",
        "  return 1\n",
        "  \n",
        "def gauss_kernel(subs_vec,width=1):\n",
        "  d = len(subs_vec)\n",
        "  expt = np.matmul(subs_vec[np.newaxis],np.transpose(subs_vec[np.newaxis]))\n",
        "  \n",
        "  return (width**d)*((math.pi)**(-0.5*d))*math.exp(expt*(-0.5/(width**2)))\n",
        "\n",
        "@njit\n",
        "def arr_label_est(inpt,train_pts,kernel_i,prior,width=1):\n",
        "    #kerns = [gauss_kernel,hypercube_fn]\n",
        "    #kernel = kerns[kernel_i]\n",
        "     \n",
        "    tmp_val = 0\n",
        "    n = len(train_pts)\n",
        "    d = len(train_pts[0])\n",
        "    #print(n)\n",
        "    #print(d)    \n",
        "    for pt in range(len(train_pts)):\n",
        "      in_vec = inpt - train_pts[pt]\n",
        "      kern_v = 0\n",
        "      if(kernel_i==0):\n",
        "        d = len(in_vec)\n",
        "        #expt = np.matmul(in_vec[np.newaxis],np.transpose(in_vec[np.newaxis]))\n",
        "        #expt = sum([in_vec[t]**2 for t in range(len(in_vec))])\n",
        "        expt = 0\n",
        "        for t in range(len(in_vec)):\n",
        "          expt += in_vec[t]**2\n",
        "        kern_v = (width**d)*((math.pi)**(-0.5*d))*math.exp(expt*(-0.5/(width**2)))\n",
        "      else:\n",
        "        kern_v = 1\n",
        "        for t in range(len(in_vec)):\n",
        "          if(np.abs(in_vec[t])>(0.5*width)):\n",
        "            kern_v = 0\n",
        "      \n",
        "      tmp_val += kern_v\n",
        "    \n",
        "    tmp_val = tmp_val/(n*(width**d))\n",
        "    tmp_val = tmp_val*prior\n",
        "    \n",
        "    return tmp_val\n",
        "    \n",
        "def parzen_label_est(inpt,train_dict,kernel_i,prior,width=1):\n",
        "\n",
        "  x=0\n",
        "  px_y = (-1,0)\n",
        "  \n",
        "  for k in train_dict.keys():\n",
        "    train_pts = train_dict[k]\n",
        "    # tmp_val = 0\n",
        "    # n = len(train_pts)\n",
        "    # d = len(train_pts[0])\n",
        "    # #print(n)\n",
        "    # #print(d)    \n",
        "    # for pt in train_pts:\n",
        "    #   in_vec = inpt - pt\n",
        "    #   tmp_val += kernel(in_vec,width)\n",
        "    # tmp_val = tmp_val/(n*(width**d))\n",
        "    # tmp_val = tmp_val*prior[int(k)]\n",
        "    v_pri = prior[int(k)]\n",
        "    tmp_val = arr_label_est(inpt,train_pts,kernel_i,v_pri,width)\n",
        "    \n",
        "    if(px_y[0]<tmp_val):\n",
        "      px_y = (tmp_val,k)\n",
        "  #print(px_y)\n",
        "  return px_y[1]\n",
        "\n",
        "def parzen_classify(train_dict,test_dict,kernel_i,prior,width,num_c):\n",
        "  test_labs_dict = {}\n",
        "\n",
        "  for k in test_dict.keys():\n",
        "    datapts = test_dict[k]\n",
        "    out_lab = []\n",
        "    \n",
        "    for t in datapts:\n",
        "      out_lab.append(parzen_label_est(t,train_dict,kernel_i,prior,width))\n",
        "\n",
        "    test_labs_dict[k] = out_lab\n",
        "  \n",
        "  return test_labs_dict,accuracy(test_labs_dict,num_c),confusion_matrx(test_labs_dict,num_c)\n",
        "\n",
        "#https://developers.google.com/machine-learning/crash-course/classification/roc-and-auc\n",
        "#https://machinelearningmastery.com/roc-curves-and-precision-recall-curves-for-classification-in-python/\n",
        "#http://www.svcl.ucsd.edu/courses/ece271A/handouts/BayesIntro.pdf\n",
        "#file:///D:/!Sem5/ML/assignments/409_2020_Assignment_1.pdf"
      ],
      "execution_count": null,
      "outputs": []
    },
    {
      "cell_type": "code",
      "metadata": {
        "id": "sU-uhVOOLdD7"
      },
      "source": [
        "#doing k-fold cv on this\n",
        "#inx = 0\n",
        "#all_cm = []\n",
        "all_b = []\n",
        "#  best_tup = [-1,list(),list(),0]\n",
        "  #num_comps = 2\n",
        "\n",
        "temp_train = k_folds[0]\n",
        "for i in range(1,len(k_folds)):\n",
        "  temp_train.extend(k_folds[i])\n",
        "tot_train = len(temp_train)\n",
        "  \n",
        "temp_train = key_feat_map(temp_train)\n",
        "  \n",
        "mle_p = np.ones(shape=6)\n",
        "for k in temp_train.keys():\n",
        "  mle_p[int(k)] = len(temp_train[k])/tot_train\n",
        "\n",
        "for w in [1]:\n",
        "  #w = (w/5)\n",
        "  for kern in [0,1]:    \n",
        "    out_d,acc,cm = parzen_classify(temp_train,test_pca,kern,mle_p,w,6)\n",
        "    out_d,tr_acc,tr_cm = parzen_classify(temp_train,temp_train,kern,mle_p,w,6)\n",
        "    all_b.append([kern,w,acc,tr_acc,mle_p,i,cm,tr_cm])\n",
        "    \n",
        "  #print(best_tup)\n",
        "  #print(all_cm)\n",
        "  #print(all_b)\n",
        "  #with open(\"/content/drive/MyDrive/Assignment1_ELL409/Q3/Parzen\" + str(inx) + \"_5Fold_5PCA.pickle\",\"wb\") as f:\n",
        "  #  pickle.dump([all_cm,all_b],f)\n",
        "  #inx+=1\n",
        "  #print(accuracy(dict_label_gauss(test_pca,best_tup[1],best_tup[2]),6))"
      ],
      "execution_count": null,
      "outputs": []
    },
    {
      "cell_type": "code",
      "metadata": {
        "id": "O5LkOUBsTHQB"
      },
      "source": [
        "for t in all_b:\n",
        "  print(round(t[2],3))\n",
        "  print(round(t[3],3))\n",
        "  p1 = precis_recall_f({},6,t[6])\n",
        "  print(round(p1[-1],3))\n",
        "  print(str([round(k1,3) for k1 in p1[0]])[1:-1].replace(\",\",\" \"))\n",
        "  print(str([round(k1,3) for k1 in p1[1]])[1:-1].replace(\",\",\" \"))\n",
        "  print(str([round(k1,3) for k1 in p1[2]])[1:-1].replace(\",\",\" \"))\n",
        "  # p1 = precis_recall_f({},6,t[7])\n",
        "  # print(round(p1[-1],3))\n",
        "  # print(str([round(k1,3) for k1 in p1[0]])[1:-1].replace(\",\",\" \"))\n",
        "  # print(str([round(k1,3) for k1 in p1[1]])[1:-1].replace(\",\",\" \"))\n",
        "  # print(str([round(k1,3) for k1 in p1[2]])[1:-1].replace(\",\",\" \"))"
      ],
      "execution_count": null,
      "outputs": []
    },
    {
      "cell_type": "code",
      "metadata": {
        "id": "TlJ8no3l6m1c"
      },
      "source": [
        "for v in all_b:\n",
        "  plot_cm(v[6],6,\"parzen, test CM \" + str(v[0]))\n",
        "  plot_cm(v[7],6,\"parzen, train CM \" + str(v[0]))\n",
        "  "
      ],
      "execution_count": null,
      "outputs": []
    },
    {
      "cell_type": "code",
      "metadata": {
        "id": "RH3myAefMoHZ"
      },
      "source": [
        "# lst = [[0.8357142857142857, 0.8205128205128205, 1.0, 0.9014084507042254, 0.8624999999999999, 0.8682716568544995, (0, 0, 1)],\n",
        "# [0.8285714285714286, 0.8205128205128205, 1.0, 0.9014084507042254, 0.8571428571428571, 0.8624894869638351, (0, 0, 2)],\n",
        "# [0.8285714285714286, 0.9230769230769231, 0.9024390243902439, 0.9126413155190134, 0.8642857142857144, 0.8147603027754415, (0, 1, 1)],\n",
        "# [0.8285714285714286, 0.875, 0.925, 0.8993055555555557, 0.85, 0.7683978132884777, (1, 0, 1)],\n",
        "# [0.8142857142857143, 0.8780487804878049, 0.8974358974358975, 0.8876364917224375, 0.8535714285714285, 0.7989907485281749, (0, 1, 2)],\n",
        "# [0.8357142857142857, 0.8780487804878049, 0.9487179487179487, 0.9120164327285175, 0.8553571428571428, 0.7586206896551724, (2, 0, 1)],\n",
        "# [0.8214285714285714, 0.8461538461538461, 0.9512195121951219, 0.8956158663883089, 0.8607142857142858, 0.7894238856181665, (0, 2, 1)],\n",
        "# [0.8285714285714286, 0.875, 0.925, 0.8993055555555557, 0.8517857142857143, 0.7642977291841883, (1, 0, 2)],\n",
        "# [0.8357142857142857, 0.875, 0.925, 0.8993055555555557, 0.7964285714285714, 0.811816652649285, (3, 0, 1)],\n",
        "# [0.8428571428571429, 0.875, 0.925, 0.8993055555555557, 0.8553571428571428, 0.7748107653490328, (2, 0, 2)],\n",
        "# [0.8071428571428572, 0.9230769230769231, 0.9024390243902439, 0.9126413155190134, 0.8625, 0.7720773759461731, (0, 2, 2)],\n",
        "# [0.8357142857142857, 0.875, 0.925, 0.8993055555555557, 0.8303571428571429, 0.7641925988225399, (3, 0, 2)],\n",
        "# [0.8142857142857143, 0.918918918918919, 0.8604651162790697, 0.8887318968562347, 0.8017857142857142, 0.9257779646761986, (3, 1, 1)],\n",
        "# [0.8214285714285714, 0.8947368421052632, 0.9047619047619048, 0.8997214484679666, 0.8624999999999999, 0.9131623212783851, (3, 1, 2)],\n",
        "# [0.8142857142857143, 0.868421052631579, 0.9523809523809523, 0.9084652443220921, 0.8571428571428571, 0.8988645920941968, (3, 2, 1)]]\n",
        "\n",
        "# for t in range(len(lst)):\n",
        "#   t1 = []\n",
        "#   t1.append(str(lst[t][-1]).replace(\",\",\"-\"))\n",
        "#   t1.extend([round(k,3) for k in lst[t][:-1]])\n",
        "#   print(str(t1)[1:-1].replace(\",\",\" \"))\n",
        "#   #break"
      ],
      "execution_count": null,
      "outputs": []
    }
  ]
}