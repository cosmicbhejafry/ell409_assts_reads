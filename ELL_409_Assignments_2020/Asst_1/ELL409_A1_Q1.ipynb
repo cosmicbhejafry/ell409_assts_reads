{
  "nbformat": 4,
  "nbformat_minor": 0,
  "metadata": {
    "colab": {
      "name": "ELL409_A1_Q1.ipynb",
      "provenance": [],
      "collapsed_sections": []
    },
    "kernelspec": {
      "name": "python3",
      "display_name": "Python 3"
    }
  },
  "cells": [
    {
      "cell_type": "code",
      "metadata": {
        "colab": {
          "base_uri": "https://localhost:8080/"
        },
        "id": "7IlaH8nOuyt1",
        "outputId": "b213beb5-e85a-4333-f357-16bd83a78842"
      },
      "source": [
        "!pip install numdifftools\n",
        "import numdifftools as ndt"
      ],
      "execution_count": null,
      "outputs": [
        {
          "output_type": "stream",
          "text": [
            "Collecting numdifftools\n",
            "\u001b[?25l  Downloading https://files.pythonhosted.org/packages/ab/c0/b0d967160ecc8db52ae34e063937d85e8d386f140ad4826aae2086245a5e/numdifftools-0.9.39-py2.py3-none-any.whl (953kB)\n",
            "\u001b[K     |████████████████████████████████| 962kB 8.3MB/s \n",
            "\u001b[?25hInstalling collected packages: numdifftools\n",
            "Successfully installed numdifftools-0.9.39\n"
          ],
          "name": "stdout"
        }
      ]
    },
    {
      "cell_type": "code",
      "metadata": {
        "id": "G1oLkzseuY1g"
      },
      "source": [
        "import numpy as np\n",
        "import pandas as pd\n",
        "import statistics as st\n",
        "import math\n",
        "#import random."
      ],
      "execution_count": null,
      "outputs": []
    },
    {
      "cell_type": "code",
      "metadata": {
        "colab": {
          "base_uri": "https://localhost:8080/"
        },
        "id": "Cn-d-LAUvy0x",
        "outputId": "2bd52fbf-4450-47ec-fcfb-b65d05f91624"
      },
      "source": [
        "#Mount drive\n",
        "from google.colab import drive\n",
        "drive.mount('/content/drive')\n",
        "drive_path = \"/content/drive/MyDrive/Assignment1_ELL409/Q1/health_data.csv\" #replace with directory where data is stored "
      ],
      "execution_count": null,
      "outputs": [
        {
          "output_type": "stream",
          "text": [
            "Mounted at /content/drive\n"
          ],
          "name": "stdout"
        }
      ]
    },
    {
      "cell_type": "code",
      "metadata": {
        "id": "-PPa1ZZUx35j"
      },
      "source": [
        "datafrm = pd.read_csv(drive_path)\n",
        "\n",
        "def confusion_matrx(out_true_dict,num_class):\n",
        "  conf_m = np.zeros(dtype=int,shape=(num_class,num_class))\n",
        "  \n",
        "  for i in out_true_dict.keys():\n",
        "    true_v = i\n",
        "    pred_vs = out_true_dict[i]\n",
        "    for pred_v in pred_vs:\n",
        "      conf_m[true_v][pred_v] +=1\n",
        "\n",
        "  return conf_m\n",
        "\n",
        "def accuracy(out_dict,num_class):\n",
        "  acc = 0\n",
        "  conf_m = confusion_matrx(out_dict,num_class)\n",
        "  for i in range(num_class):\n",
        "    acc += conf_m[i][i]\n",
        "  acc = acc/sum(sum(conf_m))\n",
        "  return acc\n",
        "\n",
        "def precis_recall_f(out_dict,num_class):\n",
        "  '''only for binary'''\n",
        "  cfm = confusion_matrx(out_dict,num_class)\n",
        "  precision = (1/(cfm[1][1] + cfm[0][1]))*cfm[1][1]\n",
        "  recall = (1/(cfm[0][0] + cfm[1][0]))*cfm[0][0]\n",
        "  fscore = 2*precision*recall*(1/(precision+recall))\n",
        "  return precision,recall,fscore\n",
        "\n",
        "#https://www.cs.cmu.edu/~tom/10601_sp08/slides/recitation-mle-nb.pdf\n",
        "#http://www.ccs.neu.edu/home/alina/classes/Fall2018/Lecture7.pdf"
      ],
      "execution_count": null,
      "outputs": []
    },
    {
      "cell_type": "code",
      "metadata": {
        "id": "seq03I6Bu-ag"
      },
      "source": [
        "#Preprocessing\n",
        "#https://stackoverflow.com/questions/24147278/how-do-i-create-test-and-train-samples-from-one-dataframe-with-pandas\n",
        "\n",
        "def split_data(data, r,flag): \n",
        "    '''r: ratio of split, r indicates amount in train; flag indicates if random or linear split'''\n",
        "    train_len = int(len(data) * r) \n",
        "    test_len = len(data) - train_len\n",
        "    test = [] \n",
        "    train = []\n",
        "\n",
        "    if(flag==0):\n",
        "      indxs = np.random.rand(len(data)) < r\n",
        "      train = data[indxs]\n",
        "      test = data[~indxs]\n",
        "    else:\n",
        "      train = data\n",
        "      while len(test) < test_len:\n",
        "        inx = 0\n",
        "        test.append(train.pop(inx))\n",
        "\n",
        "    return np.asarray(train), np.asarray(test) \n",
        "\n",
        "def key_feat_map(data_arr):\n",
        "  dict1 = {}\n",
        "  for lst in data_arr:\n",
        "    k = lst[-1]\n",
        "    if k in dict1.keys():\n",
        "      dict1[k].append(lst[:-1])\n",
        "    else:\n",
        "      dict1[k] = [np.asarray(lst[:-1])]\n",
        "  for k in dict1:\n",
        "    dict1[k] = np.asarray(dict1[k])\n",
        "    #print(dict1[k].shape)\n",
        "  return dict1"
      ],
      "execution_count": null,
      "outputs": []
    },
    {
      "cell_type": "code",
      "metadata": {
        "id": "JPTWId7B9tfa"
      },
      "source": [
        "#traindf,testdf = split_data(datafrm,0.7,1)\n",
        "allv = datafrm.values.tolist()\n",
        "allv_dict = key_feat_map(allv)\n",
        "\n",
        "traindict = {0:[],1:[]}\n",
        "testdict = {0:[],1:[]}\n",
        "\n",
        "#change 1 to 0 for random split\n",
        "#kept linear split for uniformity with partner\n",
        "traind,testd = split_data(list(allv_dict[0]),0.7,1)\n",
        "traindict[0] = traind\n",
        "testdict[0] = testd\n",
        "\n",
        "traind,testd = split_data(list(allv_dict[1]),0.7,1)\n",
        "traindict[1] = traind\n",
        "testdict[1] = testd"
      ],
      "execution_count": null,
      "outputs": []
    },
    {
      "cell_type": "code",
      "metadata": {
        "id": "bDJCTOd9fk7y"
      },
      "source": [
        "#make normalized dataset (it helps to have all training data within a certain range for EM)\n",
        "#train = x_train - x_min / x_max - x_min [where the max,min arrays are feature wise max min]\n",
        "#test = similar to train, but min and max are of the train dataset\n",
        "\n",
        "traindict_std = traindict\n",
        "testdict_std = testdict\n",
        "for key in traindict.keys():\n",
        "  #print(type(traindict[key]))\n",
        "  #break\n",
        "  lst = traindict[key]\n",
        "  max_l = np.asarray([max(lst[:,j]) for j in range(len(lst[0]))])\n",
        "  min_l = np.asarray([min(lst[:,j]) for j in range(len(lst[0]))])\n",
        "  max_l = max_l - min_l\n",
        "  for t in range(len(max_l)):\n",
        "    if(t==0):\n",
        "      t = 10**-5\n",
        "  vals = []\n",
        "  for feat in lst:\n",
        "    tmp = feat - min_l\n",
        "    tmp = np.divide(tmp,max_l)\n",
        "    vals.append(tmp)\n",
        "\n",
        "  traindict_std[key] = np.asarray(vals) \n",
        "  \n",
        "  vals = []\n",
        "  lst = testdict[key]\n",
        "  for feat in lst:\n",
        "    tmp = feat - min_l\n",
        "    tmp = np.divide(tmp,max_l)\n",
        "    vals.append(tmp)\n",
        "  testdict_std[key] = np.asarray(vals)"
      ],
      "execution_count": null,
      "outputs": []
    },
    {
      "cell_type": "markdown",
      "metadata": {
        "id": "3xcnUEboAHKa"
      },
      "source": [
        "Estimating density using Max. Likelihood Estimation.\n",
        "Bayes Classifier, class conditional density Gaussian.\n",
        "\n",
        "---\n",
        "\n"
      ]
    },
    {
      "cell_type": "code",
      "metadata": {
        "id": "HVv0qcIw_fHY"
      },
      "source": [
        "def MLE_Gaussian_Params(data_lst):\n",
        "  #MLE parameters obtained via closed form expression\n",
        "  n = data_lst.shape[0] #number of data points\n",
        "  k = data_lst.shape[1] #feature vector dimension\n",
        "  mu = data_lst[0][:]\n",
        "  for j in range(1,n):\n",
        "    mu = mu + data_lst[j][:]\n",
        "  mu = mu/n\n",
        "  \n",
        "  sd = np.zeros(shape=(k,k),dtype=float)\n",
        "  #print(k)\n",
        "  for j in range(n):\n",
        "    tmp = data_lst[j][:] - mu\n",
        "    #print(np.transpose(tmp[np.newaxis]).shape)\n",
        "    sd += np.matmul(np.transpose(tmp[np.newaxis]),tmp[np.newaxis])\n",
        "  \n",
        "  sd = sd/n\n",
        "  \n",
        "  return mu,sd\n",
        "\n",
        "def PDF_normaldistr(inpt,mu,sd):\n",
        "  #mu = lst[0]\n",
        "  #sd = lst[1]\n",
        "  #print(\"in pdf\")\n",
        "  tmp = inpt-mu\n",
        "  tmp = tmp[np.newaxis]\n",
        "  k = tmp.shape[1]\n",
        "  dt = np.linalg.det(sd)\n",
        "  if(dt!=0):\n",
        "    #print(\"det nonzero\")    \n",
        "    sdi = np.linalg.inv(sd)\n",
        "    expt = np.matmul(tmp,sdi)\n",
        "    expt = np.matmul(expt,np.transpose(tmp))*(-0.5)\n",
        "    expt = math.exp(expt[0][0])\n",
        "    #print(\"---\")\n",
        "    #print(expt)\n",
        "    #print(((2*math.pi)**(-0.5*k))*((dt)**(-0.5)))\n",
        "    #print(\"---\")\n",
        "    return expt*((2*math.pi)**(-0.5*k))*((dt)**(-0.5))\n",
        "  \n",
        "  else:\n",
        "    print(\"0 det\")\n",
        "    #add gaussian noise when determinant of covariance 0\n",
        "    sd1 = sd + np.random.normal(0,0.1,size=sd.shape)\n",
        "    sdi = np.linalg.inv(sd1)\n",
        "    dt = np.linalg.det(sd1)\n",
        "    expt = np.matmul(tmp,sdi)\n",
        "    expt = np.matmul(expt,np.transpose(tmp))*(-0.5)\n",
        "    expt = math.exp(expt[0][0])\n",
        "    return expt*((2*math.pi)**(-0.5*k))*((dt)**(-0.5))\n",
        "\n",
        "\n",
        "def predict_label_MLEGauss(lst,lst_params,prior_arr):\n",
        "\n",
        "  out_lab = (-1,0)\n",
        "\n",
        "  for indx in range(len(lst_params)):\n",
        "    theta = lst_params[indx]\n",
        "    fx_y = prior_arr[indx]\n",
        "    fx_y = fx_y*PDF_normaldistr(lst,theta[0],theta[1])\n",
        "    \n",
        "    #print(fx_y)\n",
        "    if(out_lab[0]==-1):\n",
        "      out_lab = (fx_y,indx)\n",
        "\n",
        "    else:\n",
        "      if(out_lab[0]<fx_y):\n",
        "        out_lab = (fx_y,indx)\n",
        "\n",
        "  return out_lab[1]\n",
        "\n",
        "def Classify_MLE_Gauss(train_data_dict,test_data_dict,prior_arr):\n",
        "  lst_params = []\n",
        "  #true_class = []\n",
        "  for k in train_data_dict.keys():\n",
        "    lst_d = train_data_dict[k]\n",
        "    mu,sd = MLE_Gaussian_Params(lst_d)\n",
        "    lst_params.append((mu,sd))\n",
        "    #true_class.append(k)\n",
        "  \n",
        "  #print(lst_params)\n",
        "  \n",
        "  dict_true_out = {}\n",
        "  for ky in test_data_dict.keys():\n",
        "    lst_d = test_data_dict[ky]\n",
        "    out_list = []\n",
        "    for arr in lst_d:\n",
        "      out_l = predict_label_MLEGauss(arr,lst_params,prior_arr)\n",
        "      out_list.append(out_l)\n",
        "    \n",
        "    dict_true_out[ky] = out_list\n",
        "    \n",
        "  return lst_params,dict_true_out\n",
        "\n",
        "def findLabs_gauss(test_data_dict,lst_params,prior_arr):\n",
        "  dict_true_out = {}\n",
        "  for ky in test_data_dict.keys():\n",
        "    lst_d = test_data_dict[ky]\n",
        "    out_list = []\n",
        "    for arr in lst_d:\n",
        "      out_l = predict_label_MLEGauss(arr,lst_params,prior_arr)\n",
        "      out_list.append(out_l)\n",
        "    \n",
        "    dict_true_out[ky] = out_list\n",
        "  \n",
        "  return dict_true_out"
      ],
      "execution_count": null,
      "outputs": []
    },
    {
      "cell_type": "code",
      "metadata": {
        "id": "jKbMZiCFiyCp"
      },
      "source": [
        "#codeblock to save img to drive\n",
        "#titl = 'Binary classification, Bayes rule, f(x|y) ~ multivariate normal'\n",
        "#saves = \"/content/drive/MyDrive/Assignment1_ELL409/Q1/BayesMultiGauss_ROC.png\"\n",
        "#plot_roc(traindict,testdict,titl,saves)"
      ],
      "execution_count": null,
      "outputs": []
    },
    {
      "cell_type": "code",
      "metadata": {
        "id": "vCHA05HWAzGq"
      },
      "source": [
        "import matplotlib.pyplot as plt\n",
        "\n",
        "def get_roc_vals_gauss(traindict,testdict,num_pts=100):\n",
        "  tpr = []\n",
        "  fpr = []\n",
        "  train_acc = []\n",
        "  test_acc = []\n",
        "  #lst = range(0,1,0.1)\n",
        "  prior_arr = [len(traindict[0])/(len(traindict[0])+len(traindict[1])),0]\n",
        "  prior_arr[1] = 1-prior_arr[0]\n",
        "  params,output = Classify_MLE_Gauss(traindict,testdict,prior_arr)\n",
        "\n",
        "  cm = confusion_matrx(output,2)\n",
        "  #print(cm)\n",
        "  mle_pt = [[cm[1][0]/(cm[1][0]+cm[1][1])],[cm[0][0]/(cm[0][0]+cm[0][1])]]\n",
        "  output1 = findLabs_gauss(traindict,params,prior_arr)\n",
        "  mle_acc = [accuracy(output,2),accuracy(output1,2),cm]\n",
        "  del(output)\n",
        "  del(output1)\n",
        "\n",
        "  for i in np.linspace(0,1,num_pts,endpoint=False):\n",
        "    prior_arr = [i,1-i]\n",
        "    print(prior_arr)\n",
        "    output = findLabs_gauss(testdict,params,prior_arr)  \n",
        "    #\n",
        "    #print(output)\n",
        "    cm = confusion_matrx(output,2)\n",
        "    #print(precis_recall_f(output,2))\n",
        "    tpr.append(cm[0][0]/(cm[0][0]+cm[0][1]))\n",
        "    fpr.append(cm[1][0]/(cm[1][0]+cm[1][1]))\n",
        "    test_acc.append(accuracy(output,2))\n",
        "    output = findLabs_gauss(traindict,params,prior_arr)  \n",
        "    train_acc.append(accuracy(output,2))\n",
        "\n",
        "  return tpr,fpr,mle_pt,train_acc,test_acc,mle_acc\n",
        "\n",
        "def plt_roc(tpr,fpr,mle_pt,title_str,save_str):\n",
        "  fig,ax = plt.subplots()\n",
        "  plt.scatter(fpr,tpr,marker=\".\")\n",
        "  plt.plot([0,1],[0,1],'--',c='r')\n",
        "  plt.plot([mle_pt[0]],[mle_pt[1]],'v',c='m')\n",
        "  plt.ylabel('True Positive Rate')\n",
        "  plt.xlabel('False Positive Rate')\n",
        "  plt.title(title_str)\n",
        "  plt.savefig(save_str)\n",
        "  plt.show()\n",
        "  plt.clf()\n",
        "  return 0\n",
        "\n",
        "def plt_tstr_acc(testacc,trainacc,mle_pt,xax,xtitle,titlestr,savestr):\n",
        "  fig,ax = plt.subplots()\n",
        "  plt.scatter(xax,testacc,marker=\".\",label=\"test\")\n",
        "  plt.scatter(xax,trainacc,marker=\"v\",label=\"train\")\n",
        "  ax.legend()\n",
        "  #plt.plot([0,1],[0,1],'--',c='r')\n",
        "  #plt.plot([mle_pt[0]],,'o',c='m')\n",
        "  #plt.plot([mle_pt[1]],,'o',c='k')\n",
        "  plt.ylabel('Accuracies')\n",
        "  plt.xlabel(xtitle)\n",
        "  plt.title(titlestr)\n",
        "  plt.savefig(savestr)\n",
        "  plt.show()\n",
        "  plt.clf()\n",
        "  return 0"
      ],
      "execution_count": null,
      "outputs": []
    },
    {
      "cell_type": "code",
      "metadata": {
        "id": "IzUUK0Cmmk1K"
      },
      "source": [
        "tp,fp,mlp,tracc,tsacc,mlacc=get_roc_vals_gauss(traindict,testdict)"
      ],
      "execution_count": null,
      "outputs": []
    },
    {
      "cell_type": "code",
      "metadata": {
        "colab": {
          "base_uri": "https://localhost:8080/",
          "height": 329
        },
        "id": "357amY9gn61I",
        "outputId": "cdfc77b1-0ab3-433a-b8d9-cac003760014"
      },
      "source": [
        "plt_roc(tp,fp,mlp,\"Bayes, CC multivar. Gauss\",\"/content/drive/MyDrive/Assignment1_ELL409/Q1/BayesMultiGauss_ROC2.png\")"
      ],
      "execution_count": null,
      "outputs": [
        {
          "output_type": "display_data",
          "data": {
            "image/png": "[encoded data removed]",
            "text/plain": [
              "<Figure size 432x288 with 1 Axes>"
            ]
          },
          "metadata": {
            "tags": [],
            "needs_background": "light"
          }
        },
        {
          "output_type": "execute_result",
          "data": {
            "text/plain": [
              "0"
            ]
          },
          "metadata": {
            "tags": []
          },
          "execution_count": 35
        },
        {
          "output_type": "display_data",
          "data": {
            "text/plain": [
              "<Figure size 432x288 with 0 Axes>"
            ]
          },
          "metadata": {
            "tags": []
          }
        }
      ]
    },
    {
      "cell_type": "code",
      "metadata": {
        "colab": {
          "base_uri": "https://localhost:8080/"
        },
        "id": "CaP9L0YNoQYd",
        "outputId": "bcdc2677-617b-40e5-8b88-5a917f1c64ab"
      },
      "source": [
        "print(mlp)\n",
        "print(mlacc)"
      ],
      "execution_count": null,
      "outputs": [
        {
          "output_type": "stream",
          "text": [
            "[[0.18888888888888888], [0.9666666666666667]]\n",
            "[0.9, 0.8346938775510204, array([[116,   4],\n",
            "       [ 17,  73]])]\n"
          ],
          "name": "stdout"
        }
      ]
    },
    {
      "cell_type": "code",
      "metadata": {
        "colab": {
          "base_uri": "https://localhost:8080/",
          "height": 329
        },
        "id": "InB9bIhQoU5z",
        "outputId": "e2019acd-8b72-45a2-967d-ba26be1595b9"
      },
      "source": [
        "plt_tstr_acc(tsacc,tracc,mlacc,list(range(len(tsacc))),\"P(Y=0)*100\",\"Bayes, CC multivar. Gauss\",\"/content/drive/MyDrive/Assignment1_ELL409/Q1/BayesMultiGauss_BiasVar1.png\")"
      ],
      "execution_count": null,
      "outputs": [
        {
          "output_type": "display_data",
          "data": {
            "image/png": "[encoded data removed]",
            "text/plain": [
              "<Figure size 432x288 with 1 Axes>"
            ]
          },
          "metadata": {
            "tags": [],
            "needs_background": "light"
          }
        },
        {
          "output_type": "execute_result",
          "data": {
            "text/plain": [
              "0"
            ]
          },
          "metadata": {
            "tags": []
          },
          "execution_count": 43
        },
        {
          "output_type": "display_data",
          "data": {
            "text/plain": [
              "<Figure size 432x288 with 0 Axes>"
            ]
          },
          "metadata": {
            "tags": []
          }
        }
      ]
    },
    {
      "cell_type": "code",
      "metadata": {
        "id": "WkQaF9jttFEd"
      },
      "source": [
        "#Bias Variance\n",
        "\n",
        "for j in range(0,4):\n",
        "\n",
        "  testd,traind = split_data(datafrm,0.6,0)\n",
        "  testdict1 = key_feat_map(testd)\n",
        "  traindict1 = key_feat_map(traind)\n",
        "  trainacc = []\n",
        "  testacc = []\n",
        "  k=20\n",
        "  xvals = np.zeros(shape=k-1)\n",
        "  numc = 2\n",
        "\n",
        "  for i in range(1,k):\n",
        "    frac = float(i)/(k-1)\n",
        "    train1 = {}\n",
        "    test1 = {}\n",
        "    for key in traindict1.keys():\n",
        "      lst = traindict1[key]\n",
        "      train1[key] = lst[:int(frac*len(lst))]\n",
        "      xvals[i-1] += int(frac*len(lst))\n",
        "      lst = testdict1[key]\n",
        "      test1[key] = lst[:int(frac*len(lst))]\n",
        "      del(lst)\n",
        "    \n",
        "    priors = [len(train1[0])/(len(train1[0])+len(train1[1])),0]\n",
        "    priors[1] = 1-priors[0]\n",
        "    params,outp = Classify_MLE_Gauss(train1,test1,priors)\n",
        "    testacc.append(accuracy(outp,numc))\n",
        "    outp = findLabs_gauss(train1,params,priors)\n",
        "    trainacc.append(accuracy(outp,numc))\n",
        "  plt_tstr_acc(testacc,trainacc,0,xvals,\"num. pt in train data\",\"Bayes,  multivar. Gauss\",\"/content/drive/MyDrive/Assignment1_ELL409/Q1/BayesMultiGauss_BiasVar_64\" + str(j) + \".png\")\n"
      ],
      "execution_count": null,
      "outputs": []
    },
    {
      "cell_type": "code",
      "metadata": {
        "id": "o0tr2XTMXFbY"
      },
      "source": [
        "#plot Bias-Variance curves\n",
        "#plot confusion mosaic"
      ],
      "execution_count": null,
      "outputs": []
    },
    {
      "cell_type": "markdown",
      "metadata": {
        "id": "JhVQjcbZIgh7"
      },
      "source": [
        "Bayes Classifier, class conditional density: Gaussian Mixture Model"
      ]
    },
    {
      "cell_type": "code",
      "metadata": {
        "id": "k1oim-gTI04-"
      },
      "source": [
        "def PDF_normaldistr1(inpt,mu,sd):\n",
        "  \n",
        "  tmp = inpt-mu\n",
        "  #print(type(sd))\n",
        "  #print(mu)\n",
        "  #print(sd)\n",
        "  #if(len(sd)==1):\n",
        "    #print(\"in\")\n",
        "  #try block to see if std deviation arr or int, to make code work for Naive bayes too\n",
        "  try:\n",
        "    k = len(sd)\n",
        "  except:\n",
        "    return pdf_uniGauss(inpt,[mu,sd])\n",
        "\n",
        "  tmp = tmp[np.newaxis]\n",
        "  k = tmp.shape[1]\n",
        "  dt,val = np.linalg.slogdet(sd)\n",
        "  \n",
        "  if(dt!=0):\n",
        "    #print(\"det nonzero\")    \n",
        "    dt = np.linalg.det(sd)\n",
        "    sdi = np.linalg.inv(sd)\n",
        "    expt = np.matmul(tmp,sdi)\n",
        "    expt = np.matmul(expt,np.transpose(tmp))*(-0.5)\n",
        "    expt = math.exp(expt[0][0])\n",
        " #   print(\"---\")\n",
        "   # print(expt)\n",
        "  #  print(((2*math.pi)**(-0.5*k))*((dt)**(-0.5)))\n",
        "   # print(\"---\")\n",
        "    return expt*((2*math.pi)**(-0.5*k))*((dt)**(-0.5))\n",
        "  \n",
        "  else:\n",
        "    print(\"0 det\")\n",
        "    sd1 = sd + np.random.normal(0,0.1,size=sd.shape)\n",
        "    return PDF_normaldistr1(inpt,mu,sd1)\n"
      ],
      "execution_count": null,
      "outputs": []
    },
    {
      "cell_type": "code",
      "metadata": {
        "id": "E0pY7NagImVV"
      },
      "source": [
        "#EM FOR GMMs, (coeff*multivariate gaussian)\n",
        "\n",
        "def latent_probs(num_data,data,gmm_coeffs,gmm_mu,gmm_sd):\n",
        "  gamma_wts = np.zeros(shape=(num_data,len(gmm_coeffs)))\n",
        "  #normal_distrn = [,pdf_uniGauss]\n",
        "  #all_j_sums = []\n",
        "  for i in range(num_data):\n",
        "    temp_sum = 0\n",
        "    for j in range(len(gmm_coeffs)):\n",
        "      \n",
        "      val = PDF_normaldistr1(data[i],gmm_mu[j],gmm_sd[j])\n",
        "    #  print(val)\n",
        "    #  print(data[i])\n",
        "    #  print(gmm_mu[j])\n",
        "    #  print(gmm_sd[j])\n",
        "      gamma_wts[i][j] = val*gmm_coeffs[j]\n",
        "     # print(\"val is: \" + str(val))\n",
        "      #print(\"coeff is: \" + str(gmm_coeffs[j]))\n",
        "      temp_sum += val*gmm_coeffs[j]\n",
        "      #all_j_sums.append(temp_sum)\n",
        "      #print(temp_sum)\n",
        "    gamma_wts[i,:] = gamma_wts[i,:]/temp_sum\n",
        "\n",
        "  return gamma_wts \n",
        "\n",
        "def find_maximized(data,gamma_wts):\n",
        "  gmm_mu = []\n",
        "  gmm_coeffs = []\n",
        "  gmm_sd = []\n",
        "  n = gamma_wts.shape[0]\n",
        "  #print(gamma_wts.shape)\n",
        "  for k in range(gamma_wts.shape[1]):\n",
        "    pi_k = (1/n)*(np.sum(gamma_wts[:,k]))\n",
        "    try:\n",
        "      mu_k = np.zeros(shape=len(data[0]))\n",
        "      for i in range(n):\n",
        "        mu_k += [gamma_wts[i][k]*t for t in data[i]] ##might give bt with data[i] not iterable\n",
        "      mu_k = mu_k/(n*pi_k)\n",
        "    \n",
        "      sd_k = np.zeros(shape=(len(data[0]),len(data[0])))\n",
        "      for j in range(n):\n",
        "        tmp = data[j] - mu_k\n",
        "        sd_k += np.multiply(np.matmul(np.transpose(tmp[np.newaxis]),tmp[np.newaxis]),gamma_wts[j][k])  \n",
        "      sd_k = sd_k/(n*pi_k)\n",
        "    \n",
        "    except:\n",
        "      mu_k = np.zeros(shape=1)\n",
        "      for i in range(n):\n",
        "        mu_k += gamma_wts[i][k]*data[i]\n",
        "      mu_k = mu_k/(n*pi_k)\n",
        "\n",
        "      sd_k = np.zeros(shape=(1,))\n",
        "      for j in range(n):\n",
        "        tmp = np.asarray([data[j]]) - mu_k\n",
        "        sd_k += np.multiply(np.matmul(np.transpose(tmp[np.newaxis]),tmp[np.newaxis]),gamma_wts[j][k])[0]  \n",
        "      sd_k = sd_k/(n*pi_k)\n",
        "    \n",
        "    gmm_coeffs.append(pi_k)\n",
        "    gmm_mu.append(mu_k)\n",
        "    gmm_sd.append(sd_k)\n",
        "\n",
        "  return gmm_coeffs,gmm_mu,gmm_sd\n",
        "\n",
        "def logLikeli_EMM(data,gmm_coeffs,gmm_mu,gmm_sd,gamma_coeffs):\n",
        "  logl = 0\n",
        "  for i in range(len(data)):\n",
        "    for j in range(len(gmm_coeffs)):\n",
        "     #pdf_normval = 0 \n",
        "      #try: \n",
        "      pdf_normval = PDF_normaldistr1(data[i],gmm_mu[j],gmm_sd[j])\n",
        "      #except:\n",
        "       # new_sd = gmm_sd[j] + np.random.normal(0,1,shape=gmm_sd[j].shape)\n",
        "        #pdf_normval = PDF_normaldistr(data[i],gmm_mu[j],new_sd)\n",
        "      #finally:\n",
        "      ep = 0\n",
        "      #print(gmm_coeffs[j])\n",
        "      #print(pdf_normval)\n",
        "      v1 = abs(gmm_coeffs[j]*pdf_normval)\n",
        "      if(v1==0):\n",
        "        ep = 10**-3\n",
        "        print(ep)  \n",
        "      val = math.log(v1+ep)\n",
        "      val = val*gamma_coeffs[i][j]\n",
        "\n",
        "      logl+=val\n",
        "  return logl\n",
        "  #print(\"bpp\")\n",
        "\n",
        "def EM_GMMs(n,data_lst,init_coeff,init_mu,init_sd,tolr=10^-3,maxiter=100):\n",
        "  stopCon=False\n",
        "  \n",
        "  init_logL,temp_logL = 0,0\n",
        "\n",
        "  iter = 0\n",
        "  if(len(init_coeff)>4):\n",
        "    maxiter = 450\n",
        "  while(stopCon==False):\n",
        "    print(\"iter is: \" + str(iter))\n",
        "    init_gm_wts = latent_probs(n,data_lst,init_coeff,init_mu,init_sd)\n",
        "    gmmc,gmmm,gmmsd = find_maximized(data_lst,init_gm_wts)\n",
        "    print(init_gm_wts)\n",
        "    print([gmmc,gmmm,gmmsd])\n",
        "    #init_gm_wts = latent_probs(n,data_lst,gmmc,gmmm,gmmsd)\n",
        "    #init_logL = temp_logL\n",
        "    #temp_logL = logLikeli_EMM(data_lst,gmmc,gmmm,gmmsd,init_gm_wts)\n",
        "\n",
        "    iter+=1\n",
        "    #if(abs(init_logL-temp_logL)<tolr and iter>1):\n",
        "    #if(iter>150):\n",
        "    #if(abs(init_logL-temp_logL)<tolr or iter>maxiter):\n",
        "    if(iter>maxiter):\n",
        "      stopCon = True\n",
        "      print(iter)\n",
        "      print(abs(init_logL-temp_logL))\n",
        "  print(\"bpp\")\n",
        "  return gmmc,gmmm,gmmsd\n",
        "\n",
        "#https://towardsdatascience.com/gaussian-mixture-models-explained-6986aaf5a95\n",
        "\n",
        "def pdf_GMM(inpt,params):\n",
        "  gmm_c,gmm_m,gmm_sd = params[0],params[1],params[2]\n",
        "  val = 0\n",
        "  for t in range(len(gmm_c)):\n",
        "    val += gmm_c[t]*PDF_normaldistr(inpt,gmm_m[t],gmm_sd[t])\n",
        "  return val\n",
        "\n",
        "def MLE_predictLab_GMM(inpt,params_arr,prior_arr):\n",
        "  #all_vals = []\n",
        "  max_val = (-1,0)\n",
        "  for key in params_arr.keys():\n",
        "    params = params_arr[key]\n",
        "    val = prior_arr[key]\n",
        "    val = val*pdf_GMM(inpt,params)\n",
        "\n",
        "    if(max_val[0]==-1):\n",
        "      max_val = (val,key)\n",
        "    else:\n",
        "      if(max_val[0]<val):\n",
        "        max_val = (val,key)\n",
        "\n",
        "  #print(\"boo\") \n",
        "  return max_val[1] \n",
        "\n",
        "def find_params_traindict(train_dict,init_guess):\n",
        "  params_dict = {}\n",
        "  for k in train_dict.keys():\n",
        "      c,mu,sd = EM_GMMs(len(train_dict[k]),train_dict[k],init_guess[0],init_guess[1],init_guess[2])\n",
        "      params_dict[k] = (c,mu,sd)\n",
        "  return params_dict\n",
        "\n",
        "def tested_labs(test_dict,params_dict,prior_arr):\n",
        "  tested_labels = {}\n",
        "  for k in test_dict.keys():\n",
        "    feats = test_dict[k]\n",
        "    out_labs = []\n",
        "    for feat in feats:\n",
        "      labl = MLE_predictLab_GMM(feat,params_dict,prior_arr)\n",
        "      out_labs.append(labl)\n",
        "    tested_labels[k] = out_labs\n",
        "  return tested_labels\n",
        "\n",
        "def MLE_Bayes_GMM(train_dict,test_dict,init_guess,vary_pri,prior_arr1=[0.5,0.5],num_pts=100):\n",
        "  params_dict = find_params_traindict(train_dict,init_guess)\n",
        "  \n",
        "  if(vary_pri==1):\n",
        "      for i in np.linspace(0,1,num_pts,endpoint=False):\n",
        "        prior_arr = [i,1-i]\n",
        "     #   print(prior_arr)\n",
        "        output = tested_labs(test_dict,params_dict,prior_arr)\n",
        "        #print(output)\n",
        "        cm = confusion_matrx(output,2)\n",
        "        #print(precis_recall_f(output,2))\n",
        "        tpr.append(cm[0][0]/(cm[0][0]+cm[0][1]))\n",
        "        fpr.append(cm[1][0]/(cm[1][0]+cm[1][1]))\n",
        "\n",
        "      prior_arr = [len(train_dict[0])/(len(train_dict[0])+len(train_dict[1])),0]\n",
        "      prior_arr[1] = 1-prior_arr[0]\n",
        "      output = tested_labs(test_dict,params_dict,prior_arr)\n",
        "      #print(output)\n",
        "      cm = confusion_matrx(output,2)\n",
        "      mle_pt = [[cm[1][0]/(cm[1][0]+cm[1][1])],[cm[0][0]/(cm[0][0]+cm[0][1])]]\n",
        "      return tpr,fpr,mle_pt\n",
        "  \n",
        "  else:\n",
        "    prior_arr1[0] = len(train_dict[0])/(len(train_dict[0])+len(train_dict[1]))\n",
        "    prior_arr1[1] = 1-prior_arr1[0]\n",
        "    tested_labels = tested_labs(test_dict,params_dict,prior_arr1)\n",
        "    test_acc = accuracy(tested_labels,2)\n",
        "    \n",
        "    train_labels = tested_labs(train_dict,params_dict,prior_arr1)\n",
        "    train_acc = accuracy(train_labels,2)\n",
        "    \n",
        "    return test_acc,train_acc"
      ],
      "execution_count": null,
      "outputs": []
    },
    {
      "cell_type": "code",
      "metadata": {
        "id": "35CO-WTpK9U3"
      },
      "source": [
        "def randomList(m,coeff):  \n",
        "    arr = np.zeros(shape=m)  \n",
        "    while(sum(arr)!=1):\n",
        "        arr[np.random.randint(0, m)] += coeff;  \n",
        "     #   print(arr)\n",
        "    max = 0\n",
        "    for t in range(m):\n",
        "      arr[t] = round(arr[t],2)\n",
        "\n",
        "      if(arr[t]>arr[max]):\n",
        "        max = t\n",
        "      if(arr[t]==0):\n",
        "        arr[t] = coeff\n",
        "        arr[max] = arr[max] - coeff\n",
        "\n",
        "    return arr\n",
        "#print(randomList(5))  \n",
        "\n",
        "def generate_random_initguess(num_comps,num_feat,coeff,ub):\n",
        "  gmm_coeffs = [1/num_comps for t in range(num_comps)]\n",
        "  if(num_feat==1):\n",
        "    gmm_mu = [np.random.rand(1) for i in range(num_comps)]\n",
        "    gmm_sd = [np.random.randint(1,4)*0.25 for i in range(num_comps)]\n",
        "    return {0:gmm_coeffs,1:gmm_mu,2:gmm_sd}\n",
        "  \n",
        "  gmm_mu = [np.random.rand(num_feat)*10 for i in range(num_comps)]\n",
        "  gmm_sd_t = [np.random.randint(0,ub,size=(num_feat,num_feat)) for i in range(num_comps)]\n",
        "  gmm_sd = [np.matmul(np.transpose(tmp),tmp) for tmp in gmm_sd_t]\n",
        "\n",
        "  return {0:gmm_coeffs,1:gmm_mu,2:gmm_sd}"
      ],
      "execution_count": null,
      "outputs": []
    },
    {
      "cell_type": "code",
      "metadata": {
        "id": "SjRMj607I2UT"
      },
      "source": [
        "#num_comps = 5\n",
        "num_feat = 3\n",
        "train_accs = []\n",
        "test_accs = []\n",
        "for num_comps in [5]:\n",
        "  initg = generate_random_initguess(num_comps,num_feat,0.1,100)\n",
        "  test_acc,train_acc = MLE_Bayes_GMM(traindict,testdict,initg,0)\n",
        "  print(test_acc)\n",
        "  print(train_acc)\n",
        "  train_accs.append(train_acc)\n",
        "  test_accs.append(test_acc)"
      ],
      "execution_count": null,
      "outputs": []
    },
    {
      "cell_type": "code",
      "metadata": {
        "colab": {
          "base_uri": "https://localhost:8080/"
        },
        "id": "-SxgFNNudhGy",
        "outputId": "9b79c77d-49b1-4293-9876-b52bc2bf7a05"
      },
      "source": [
        "print(test_accs)\n",
        "print(train_accs)"
      ],
      "execution_count": null,
      "outputs": [
        {
          "output_type": "stream",
          "text": [
            "[0.9857142857142858]\n",
            "[0.7959183673469388]\n"
          ],
          "name": "stdout"
        }
      ]
    },
    {
      "cell_type": "code",
      "metadata": {
        "colab": {
          "base_uri": "https://localhost:8080/",
          "height": 312
        },
        "id": "wt2T-X7jzUXo",
        "outputId": "f64cec8f-6e38-487f-e0d6-2219d635bb2e"
      },
      "source": [
        "plt_roc(tpr,fpr,mlept,'Binary classify, Bayes rule, f(x|y) ~ GMM',\"/content/drive/MyDrive/Assignment1_ELL409/Q1/BayesGMM_4Comp_ROC.png\")"
      ],
      "execution_count": null,
      "outputs": [
        {
          "output_type": "display_data",
          "data": {
            "image/png": "[encoded data removed]",
            "text/plain": [
              "<Figure size 432x288 with 1 Axes>"
            ]
          },
          "metadata": {
            "tags": [],
            "needs_background": "light"
          }
        },
        {
          "output_type": "execute_result",
          "data": {
            "text/plain": [
              "0"
            ]
          },
          "metadata": {
            "tags": []
          },
          "execution_count": 155
        }
      ]
    },
    {
      "cell_type": "code",
      "metadata": {
        "colab": {
          "base_uri": "https://localhost:8080/"
        },
        "id": "xz2mOXtUoMci",
        "outputId": "90431276-89ac-4b40-b999-0d1517d0e24c"
      },
      "source": [
        "print(confusion_matrx(out,2))"
      ],
      "execution_count": null,
      "outputs": [
        {
          "output_type": "stream",
          "text": [
            "[[120   0]\n",
            " [ 90   0]]\n"
          ],
          "name": "stdout"
        }
      ]
    },
    {
      "cell_type": "markdown",
      "metadata": {
        "id": "88o9c2aWAkuZ"
      },
      "source": [
        "Experiments with Naive Bayes"
      ]
    },
    {
      "cell_type": "code",
      "metadata": {
        "id": "H1OqR4tUDFFu"
      },
      "source": [
        "#print(traindict[0][:,1])\n",
        "#params = MLE_uniGMM(traindict[0][1:100,0])a\n",
        "#print(pdf_uniGMM(traindict[0][101,0],params))"
      ],
      "execution_count": null,
      "outputs": []
    },
    {
      "cell_type": "code",
      "metadata": {
        "id": "h9b4ZpycPnwj"
      },
      "source": [
        "#MLE for Naive Bayes || \n",
        "\n",
        "def MLE_uniGMM(data):\n",
        "  num_comps = 2\n",
        "  init_guess = generate_random_initguess(num_comps,1,0.1,20)\n",
        "  print(init_guess)\n",
        "  c,mu,sd = EM_GMMs(len(data),data,init_guess[0],init_guess[1],init_guess[2])\n",
        "  print(c)\n",
        "  print(mu)\n",
        "  print(sd)\n",
        "  return [c,mu,sd]\n",
        "\n",
        "def pdf_uniGMM(inpt,params):\n",
        "  gmm_c,gmm_m,gmm_sd = params[0],params[1],params[2]\n",
        "  val = 0\n",
        "  for t in range(len(gmm_c)):\n",
        "    val += gmm_c[t]*pdf_uniGauss(inpt,[gmm_m[t],gmm_sd[t]])\n",
        "  return val\n",
        "\n",
        "def MLE_uniGauss(data):\n",
        "  #data has to be single feature ka array\n",
        "  mu = np.sum(data)\n",
        "  mu = mu/data.shape[0]\n",
        "  print(mu)\n",
        "  #print(data)\n",
        "  #tmp = [(t - mu)**2 for t in data]\n",
        "  tmp = 0\n",
        "  for t in data:\n",
        "    tmp += (t-mu)**2\n",
        "  sd = (1/(data.shape[0]))*(tmp)\n",
        "  return [mu,math.sqrt(sd)]\n",
        "\n",
        "def pdf_uniGauss(x,lst):\n",
        "  mu = lst[0]\n",
        "  sd = lst[1]\n",
        "  if(sd==0):\n",
        "    sd = 10**-4\n",
        "  expt = (-0.5)*(x-mu)*(x-mu)*(1/sd)\n",
        "  return (1/sd)*(0.5)*(1/(math.pi))*math.exp(expt)\n",
        "\n",
        "def MLE_uniExp(data):\n",
        "  #data has to be single feature ka array\n",
        "  #would need to be modified to Laplacian agar neg features possible\n",
        "  mu = np.sum(data)\n",
        "  mu = mu/data.shape[0]\n",
        "  return [mu]\n",
        "\n",
        "def pdf_uniExp(x,mu1):\n",
        "  mu = mu1[0]\n",
        "  return (1/mu)*(math.exp(-x/mu))\n",
        "\n",
        "def MLE_uniUnf(data):\n",
        "  #data has to be single feature ka array\n",
        "  return [np.amax(data)]\n",
        "\n",
        "def pdf_uniUnf(x,mu):\n",
        "  return 1/mu[0]\n",
        "\n",
        "def MLE_predictLab_Naive(test,params_arr,fn_arr,priors):\n",
        "  #all_vals = []\n",
        "  max_val = (-1,0)\n",
        "  #print(params_arr.keys())\n",
        "  \n",
        "  for key in params_arr.keys():\n",
        "   #print(key)\n",
        "    params = params_arr[key]\n",
        "    val = 1\n",
        "    \n",
        "    for i in range(len(test)):\n",
        "      pxi_y = fn_arr[i](test[i],params[i])\n",
        "      val = val*pxi_y\n",
        "    \n",
        "    py = priors[key] #equiprobable for now\n",
        "    val = val*py\n",
        "\n",
        "    if(max_val[0]==-1):\n",
        "      max_val = (val,key)\n",
        "    else:\n",
        "      if(max_val[0]<val):\n",
        "        max_val = (val,key)\n",
        "\n",
        "  #print(\"boo\") \n",
        "  return max_val[1] \n",
        "\n",
        "def labels_MLE_naiveB(test_dict1,params_arr,fn_arr,priors):\n",
        "  dict_true_out = {}\n",
        "  for k in test_dict1.keys():\n",
        "    lst_feats = test_dict1[k]\n",
        "    out_labels = []\n",
        "\n",
        "    for feat in lst_feats:\n",
        "      lbl = MLE_predictLab_Naive(feat,params_arr,fn_arr,priors)\n",
        "      out_labels.append(lbl)\n",
        "\n",
        "    dict_true_out[k] = out_labels\n",
        "  \n",
        "  return dict_true_out\n",
        "\n",
        "def MLE_classify_Naive(train_dict,test_dict,MLE_arr,fn_arr,is_iid,priors,flag_roc=1,num_pts=100):\n",
        "  \n",
        "  #training\n",
        "  params_arr = {}\n",
        "  \n",
        "  for key1 in train_dict.keys():\n",
        "    lst_d = train_dict[key1]\n",
        "    len_feat = len(lst_d[0])\n",
        "    feat_params = []\n",
        "    \n",
        "    if(is_iid==1):\n",
        "      for i in range(len_feat):\n",
        "        xi = lst_d[:,i]\n",
        "       # print(xi)\n",
        "        feat_params.append(MLE_arr[i](xi))\n",
        "      #print(feat_params)\n",
        "    \n",
        "    else:\n",
        "      #build dict\n",
        "      feat_params = [0 for t in range(len_feat)]\n",
        "      #print(len_feat)\n",
        "      MLE_dict = {}\n",
        "      for i in range(len(MLE_arr)):\n",
        "        key = MLE_arr[i]\n",
        "        print(key)\n",
        "        if key in MLE_dict.keys():\n",
        "          MLE_dict[key].append(i)\n",
        "        else:\n",
        "          MLE_dict[key] = [i]\n",
        "      \n",
        "      for fn in MLE_dict.keys():\n",
        "        \n",
        "        feats = MLE_dict[fn]\n",
        "        #print(feats)\n",
        "        data_all = lst_d[:,feats[0]]\n",
        "        #print(feats)\n",
        "        for j in range(1,len(feats)):\n",
        "          np.append(data_all,lst_d[:,feats[j]])\n",
        "    \n",
        "        lst_params = fn(data_all)\n",
        "        \n",
        "        for t in feats:\n",
        "          feat_params[t] = lst_params\n",
        "      \n",
        "      #print(\"fin els\")\n",
        "    #print(feat_params)\n",
        "    #print(MLE_dict.keys())\n",
        "    \n",
        "    params_arr[key1] = feat_params  \n",
        "\n",
        "    #testing\n",
        "  if(flag_roc==1):\n",
        "    tpr = []\n",
        "    fpr = []\n",
        "    test_acc = []\n",
        "    train_acc = []\n",
        "    \n",
        "    for i in np.linspace(0,1,num_pts,endpoint=False):\n",
        "      prior_arr = [i,1-i]\n",
        "      output = labels_MLE_naiveB(test_dict,params_arr,fn_arr,prior_arr)\n",
        "      cm = confusion_matrx(output,2)\n",
        "      denom_t = cm[0][0]+cm[0][1]\n",
        "      if(denom_t==0):\n",
        "        print(cm)\n",
        "        print(prior_arr)\n",
        "        denom_t = 10**-4\n",
        "      tpr.append(cm[0][0]/denom_t)\n",
        "      denom_t = cm[1][0]+cm[1][1]\n",
        "      if(denom_t==0):\n",
        "        print(cm)\n",
        "        denom_t = 10**-4\n",
        "      fpr.append(cm[1][0]/denom_t)\n",
        "      \n",
        "      test_acc.append(accuracy(output,2))\n",
        "      output = labels_MLE_naiveB(train_dict,params_arr,fn_arr,prior_arr)\n",
        "      train_acc.append(accuracy(output,2))\n",
        "      del(output)\n",
        "\n",
        "    prior_arr = [len(train_dict[0])/(len(train_dict[0])+len(train_dict[1])),0]\n",
        "    prior_arr[1] = 1-prior_arr[0]\n",
        "    output = labels_MLE_naiveB(test_dict,params_arr,fn_arr,prior_arr)\n",
        "    cm = confusion_matrx(output,2)\n",
        "    mle_pt = [[cm[1][0]/(cm[1][0]+cm[1][1])],[cm[0][0]/(cm[0][0]+cm[0][1])]]\n",
        "    \n",
        "    output1 = labels_MLE_naiveB(train_dict,params_arr,fn_arr,prior_arr)\n",
        "    mle_acc = [accuracy(output,2),accuracy(output1,2)]\n",
        "    del(output)\n",
        "    del(output1)\n",
        "    print(\"---\")\n",
        "    print(tpr)\n",
        "    print(fpr)\n",
        "    print(mle_acc)\n",
        "    print(\"----\")\n",
        "    return tpr,fpr,mle_pt,test_acc,train_acc,mle_acc\n",
        "  \n",
        "  else:\n",
        "    print(\"eh\")\n",
        "\n"
      ],
      "execution_count": null,
      "outputs": []
    },
    {
      "cell_type": "code",
      "metadata": {
        "id": "aBzX6KiT0yfy"
      },
      "source": [
        "num_feats = len(traindict_std[0][1])\n",
        "MLE_all = [MLE_uniGauss,MLE_uniExp,MLE_uniUnf,MLE_uniGMM]\n",
        "fn_all = [pdf_uniGauss,pdf_uniExp,pdf_uniUnf,pdf_uniGMM]"
      ],
      "execution_count": null,
      "outputs": []
    },
    {
      "cell_type": "code",
      "metadata": {
        "id": "e5SNlE-78o3J"
      },
      "source": [
        "print(len(traindict[0]))\n",
        "print(len(traindict[1]))\n",
        "print(len(testdict[0]))\n",
        "print(len(testdict[1]))"
      ],
      "execution_count": null,
      "outputs": []
    },
    {
      "cell_type": "code",
      "metadata": {
        "id": "UNnoWCqWvsxr"
      },
      "source": [
        "i1 = 0; i2 = 3; i3 = 0;\n",
        "MLE_arr = [MLE_all[i1],MLE_all[i2],MLE_all[i3]]\n",
        "fn_arr = [fn_all[i1],fn_all[i2],fn_all[i3]]\n",
        "out = MLE_classify_Naive(traindict_std,testdict_std,MLE_arr,fn_arr,0,[0.5,0.5])"
      ],
      "execution_count": null,
      "outputs": []
    },
    {
      "cell_type": "markdown",
      "metadata": {
        "id": "-NHxlp9fS04P"
      },
      "source": [
        "Parzen window est of class conditional density"
      ]
    },
    {
      "cell_type": "code",
      "metadata": {
        "id": "0_J90QhvTMIf"
      },
      "source": [
        "#Parzen window est. \n",
        "def hypercube_fn(subs_vec,width=1):\n",
        "  for t in subs_vec:\n",
        "    if(np.abs(t)>(0.5*width)):\n",
        "      return 0\n",
        "  return 1\n",
        "  \n",
        "def gauss_kernel(subs_vec,width=1):\n",
        "  d = len(subs_vec)\n",
        "  expt = np.matmul(subs_vec[np.newaxis],np.transpose(subs_vec[np.newaxis]))\n",
        "  \n",
        "  return (width**d)*((math.pi)**(-0.5*d))*math.exp(expt*(-0.5/(width**2)))\n",
        "\n",
        "def parzen_label_est(inpt,train_dict,kernel,prior,width=1):\n",
        "\n",
        "  x=0\n",
        "  px_y = (-1,0)\n",
        "\n",
        "  for k in train_dict.keys():\n",
        "    train_pts = train_dict[k]\n",
        "    tmp_val = 0\n",
        "    n = len(train_pts)\n",
        "    d = len(train_pts[0])\n",
        "    #print(n)\n",
        "    #print(d)    \n",
        "    for pt in train_pts:\n",
        "      in_vec = inpt - pt\n",
        "      tmp_val += kernel(in_vec,width)\n",
        "    tmp_val = tmp_val/(n*(width**d))\n",
        "    tmp_val = tmp_val*prior[k]\n",
        "\n",
        "    if(px_y[0]<tmp_val):\n",
        "      px_y = (tmp_val,k)\n",
        "  \n",
        "  return px_y[1]\n",
        "\n",
        "def parzen_classify(train_dict,test_dict,kernel,prior,width):\n",
        "  test_labs_dict = {}\n",
        "\n",
        "  for k in test_dict.keys():\n",
        "    datapts = test_dict[k]\n",
        "    out_lab = []\n",
        "    \n",
        "    for t in datapts:\n",
        "      out_lab.append(parzen_label_est(t,train_dict,kernel,prior,width))\n",
        "\n",
        "    test_labs_dict[k] = out_lab\n",
        "  return test_labs_dict\n",
        "\n",
        "#file:///D:/!Sem5/ML/assignments/409_2020_Assignment_1.pdf"
      ],
      "execution_count": null,
      "outputs": []
    },
    {
      "cell_type": "code",
      "metadata": {
        "colab": {
          "base_uri": "https://localhost:8080/"
        },
        "id": "tXwlQWI_LZ1f",
        "outputId": "e7b9d278-748f-4fac-cc71-7b4ff51cbbdc"
      },
      "source": [
        "out = parzen_classify(traindict,testdict,gauss_kernel,[0.5,0.5],1) #Parzen working\n",
        "print(out)"
      ],
      "execution_count": null,
      "outputs": [
        {
          "output_type": "stream",
          "text": [
            "{0: [0, 0, 0, 0, 0, 0, 0, 0, 0, 0, 0, 0, 0, 0, 0, 0, 0, 0, 0, 0, 0, 0, 0, 0, 0, 0, 0, 0, 0, 0, 0, 0, 0, 0, 0, 0, 0, 0, 0, 0, 0, 0, 0, 0, 0, 0, 0, 0, 0, 0, 0, 0, 0, 0, 0, 0, 0, 0, 0, 0, 0, 0, 0, 0, 0, 0, 0, 0, 0, 0, 0, 0, 0, 0, 0, 0, 0, 1, 1, 0, 0, 1, 0, 1, 1, 0, 0, 1, 1, 1, 1, 1, 1, 1, 1, 1, 1, 1, 0, 1, 1, 1, 1, 1, 1, 1], 1: [1, 1, 1, 1, 1, 1, 1, 1, 1, 1, 1, 1, 1, 1, 1, 1, 1, 1, 1, 1, 1, 1, 1, 1, 1, 1, 1, 1, 1, 1, 1, 1, 1, 1, 1, 1, 1, 1, 1, 1, 1, 1, 1, 1, 1, 1, 1, 1, 1, 1, 1, 1, 1, 1, 1, 1, 1, 1, 1, 1, 1, 1, 1, 1, 1, 1, 1, 1, 1, 1, 1, 1, 0, 0, 0, 0, 0, 0, 0, 0, 0, 0, 0, 0, 0, 0, 0, 0, 1, 1, 0, 0, 1, 0, 1, 1, 0, 1, 0, 0, 0, 0, 0]}\n"
          ],
          "name": "stdout"
        }
      ]
    },
    {
      "cell_type": "markdown",
      "metadata": {
        "id": "iRT5xPNzTPGH"
      },
      "source": [
        "MAP estimates with Naive Bayes"
      ]
    },
    {
      "cell_type": "code",
      "metadata": {
        "id": "knTAbv_dTQ4X"
      },
      "source": [
        "#MAP of argmax f(X|Y,P)*f(P) || With Naive Bayes\n",
        "\n",
        "def MAP_prior_binary(traindict,theta_prior_params):\n",
        "  a = theta_prior_params[0]\n",
        "  b = theta_prior_params[1]\n",
        "  n = len(traindict[0]) + len(traindict[1])\n",
        "  y_1 = len(traindict[1]) \n",
        "  p = (a + y_1 - 1)/(a+b+n-2)\n",
        "  return [p,1-p]\n",
        "\n",
        "def MAP_expo_fXY_theta(data,theta_prior_param,dummy_var):\n",
        "  n = len(data)\n",
        "  return 1/((theta_prior_param)+sum(data))\n",
        "\n",
        "def MAP_gauss_fXY_theta_varfix(data,theta_prior_params,var):\n",
        "  n = len(data)\n",
        "  s = sum(data)\n",
        "  sm2 = theta_prior_params[1]**2\n",
        "  return (sm2*s + (var**2)*theta_prior_params[0])/(sm2*n+(var**2))\n",
        "\n"
      ],
      "execution_count": null,
      "outputs": []
    }
  ]
}