{
  "nbformat": 4,
  "nbformat_minor": 0,
  "metadata": {
    "colab": {
      "name": "ELL409_Q3_Part5.ipynb",
      "provenance": [],
      "collapsed_sections": []
    },
    "kernelspec": {
      "name": "python3",
      "display_name": "Python 3"
    }
  },
  "cells": [
    {
      "cell_type": "code",
      "metadata": {
        "id": "3NbVKOHKOCWJ"
      },
      "source": [
        "import numpy as np\n",
        "#import math\n",
        "\n",
        "import torch\n",
        "\n",
        "from torch.autograd import Variable\n",
        "\n",
        "import torch.nn as nn\n",
        "import torch.nn.functional as F\n",
        "\n",
        "import torch.optim as optim\n",
        "\n",
        "import torchvision\n",
        "import torchvision.transforms as transforms\n",
        "import matplotlib.pyplot as plt\n",
        "from sklearn.decomposition import PCA\n",
        "from sklearn.manifold import TSNE"
      ],
      "execution_count": null,
      "outputs": []
    },
    {
      "cell_type": "code",
      "metadata": {
        "id": "b5K7wLc_PFuX"
      },
      "source": [
        "# transform = transforms.Compose([transforms.ToTensor()]) #change normalize values if need be"
      ],
      "execution_count": null,
      "outputs": []
    },
    {
      "cell_type": "code",
      "metadata": {
        "id": "RR0WhEufNs05"
      },
      "source": [
        "svhn = torchvision.datasets.SVHN('/tmp', download=True)\n",
        "mnist = torchvision.datasets.MNIST('/tmp', download=True)"
      ],
      "execution_count": null,
      "outputs": []
    },
    {
      "cell_type": "code",
      "metadata": {
        "id": "3uGWPVWrPKqz"
      },
      "source": [
        "# svhn_loader = torch.utils.data.DataLoader(dataset=svhn,\n",
        "#                                           batch_size=1,\n",
        "#                                           shuffle=True,\n",
        "#                                           num_workers=2)\n",
        "\n",
        "# mnist_loader = torch.utils.data.DataLoader(dataset=mnist,\n",
        "#                                             batch_size=1,\n",
        "#                                             shuffle=True,\n",
        "#                                             num_workers=2)"
      ],
      "execution_count": null,
      "outputs": []
    },
    {
      "cell_type": "code",
      "metadata": {
        "id": "171r8U_McOsv"
      },
      "source": [
        "print(svhn.data.shape)\n",
        "print(svhn.data.reshape(73257,3*32*32)[0].shape)"
      ],
      "execution_count": null,
      "outputs": []
    },
    {
      "cell_type": "code",
      "metadata": {
        "id": "S5dgXk1xNIYc"
      },
      "source": [
        "new_data = []\n",
        "new_labs = []\n",
        "for val in range(svhn.data.shape[0]):\n",
        "  if(svhn.labels[val]==0):\n",
        "    new_labs.append(svhn.labels[val])\n",
        "    new_data.append(svhn.data[val])\n",
        "  \n",
        "  if(svhn.labels[val]==5):\n",
        "    new_labs.append(svhn.labels[val])\n",
        "    new_data.append(svhn.data[val])"
      ],
      "execution_count": null,
      "outputs": []
    },
    {
      "cell_type": "code",
      "metadata": {
        "id": "U9RZJbZePTWw"
      },
      "source": [
        "pca = PCA(n_components=3, svd_solver='full')\n",
        "pca.fit(svhn.data.reshape(73257,3*32*32))"
      ],
      "execution_count": null,
      "outputs": []
    },
    {
      "cell_type": "code",
      "metadata": {
        "id": "dk-dTiA2dgwd"
      },
      "source": [
        "# from mpl_toolkits.mplot3d import Axes3D\n",
        "# fig = plt.figure()\n",
        "# ax = fig.add_subplot(111, projection='3d')\n",
        "\n",
        "# cols = ['r','b','#35ed7d','g','k','m','#c29d94','#a18706','#7a2c4c','#f6b4de']\n",
        "# for comp in range(73257):\n",
        "#   ax.scatter(pca.components_[comp][0],pca.components_[comp][1],c=cols[svhn.labels[comp]])\n",
        "\n",
        "# plt.title(\"PCA\")"
      ],
      "execution_count": null,
      "outputs": []
    },
    {
      "cell_type": "code",
      "metadata": {
        "id": "yr8qVpszP-gU"
      },
      "source": [
        "tsne = TSNE(n_components=2, verbose=1, perplexity=10, n_iter=250)\n",
        "tsne_results = tsne.fit_transform(np.asarray(new_data).reshape(len(new_data),3*32*32))"
      ],
      "execution_count": null,
      "outputs": []
    },
    {
      "cell_type": "code",
      "metadata": {
        "id": "sUZyBUwzzWjU"
      },
      "source": [
        "# print(tsne_results[:,0])"
      ],
      "execution_count": null,
      "outputs": []
    },
    {
      "cell_type": "code",
      "metadata": {
        "id": "Fr7UpVKXwBdt"
      },
      "source": [
        "# fig = plt.figure()\n",
        "\n",
        "# for comp in range(len(new_data)):\n",
        "#   if(new_labs[comp]==0):\n",
        "#     plt.scatter(tsne_results[comp][0],tsne_results[comp][1],c='r')\n",
        "#   else:\n",
        "#     plt.scatter(tsne_results[comp][0],tsne_results[comp][1],c='b')"
      ],
      "execution_count": null,
      "outputs": []
    }
  ]
}